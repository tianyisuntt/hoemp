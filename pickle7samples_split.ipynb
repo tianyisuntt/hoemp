{
 "cells": [
  {
   "cell_type": "code",
   "execution_count": 1,
   "id": "9d18d92f",
   "metadata": {},
   "outputs": [
    {
     "data": {
      "text/html": [
       "<style type='text/css'>\n",
       ".CodeMirror{\n",
       "font-size: 11px;\n",
       "</style>\n"
      ],
      "text/plain": [
       "<IPython.core.display.HTML object>"
      ]
     },
     "metadata": {},
     "output_type": "display_data"
    }
   ],
   "source": [
    "%%html\n",
    "<style type='text/css'>\n",
    ".CodeMirror{\n",
    "font-size: 11px;\n",
    "</style>"
   ]
  },
  {
   "cell_type": "code",
   "execution_count": 2,
   "id": "03b3a0bb",
   "metadata": {
    "collapsed": true
   },
   "outputs": [
    {
     "name": "stdout",
     "output_type": "stream",
     "text": [
      "Requirement already satisfied: tabula-py in /opt/anaconda3/lib/python3.9/site-packages (2.4.0)\n",
      "Requirement already satisfied: pandas>=0.25.3 in /opt/anaconda3/lib/python3.9/site-packages (from tabula-py) (1.3.4)\n",
      "Requirement already satisfied: numpy in /opt/anaconda3/lib/python3.9/site-packages (from tabula-py) (1.20.0)\n",
      "Requirement already satisfied: distro in /opt/anaconda3/lib/python3.9/site-packages (from tabula-py) (1.7.0)\n",
      "Requirement already satisfied: python-dateutil>=2.7.3 in /opt/anaconda3/lib/python3.9/site-packages (from pandas>=0.25.3->tabula-py) (2.8.2)\n",
      "Requirement already satisfied: pytz>=2017.3 in /opt/anaconda3/lib/python3.9/site-packages (from pandas>=0.25.3->tabula-py) (2021.3)\n",
      "Requirement already satisfied: six>=1.5 in /opt/anaconda3/lib/python3.9/site-packages (from python-dateutil>=2.7.3->pandas>=0.25.3->tabula-py) (1.15.0)\n",
      "\u001b[33mWARNING: There was an error checking the latest version of pip.\u001b[0m\u001b[33m\n",
      "\u001b[0mNote: you may need to restart the kernel to use updated packages.\n"
     ]
    }
   ],
   "source": [
    "#pip install tabula-py"
   ]
  },
  {
   "cell_type": "markdown",
   "id": "4abc66ab",
   "metadata": {},
   "source": [
    ".pdf to .csv [link](https://fedingo.com/how-to-convert-pdf-to-csv-in-python/)"
   ]
  },
  {
   "cell_type": "code",
   "execution_count": 2,
   "id": "1bae65d2",
   "metadata": {},
   "outputs": [],
   "source": [
    "import pandas as pd\n",
    "from tabula import read_pdf"
   ]
  },
  {
   "cell_type": "code",
   "execution_count": 5,
   "id": "b1093688",
   "metadata": {},
   "outputs": [
    {
     "name": "stderr",
     "output_type": "stream",
     "text": [
      "'pages' argument isn't specified.Will extract only from page 1 by default.\n"
     ]
    }
   ],
   "source": [
    "ls = []\n",
    "for i in range(0, 300):\n",
    "    df = read_pdf(\"data_drug/drug.pdf\", pages=i)[0]\n",
    "    ls.append(df)"
   ]
  },
  {
   "cell_type": "code",
   "execution_count": 7,
   "id": "62faeda3",
   "metadata": {},
   "outputs": [
    {
     "data": {
      "text/plain": [
       "300"
      ]
     },
     "execution_count": 7,
     "metadata": {},
     "output_type": "execute_result"
    }
   ],
   "source": [
    "len(ls)"
   ]
  },
  {
   "cell_type": "markdown",
   "id": "6b4a8ac1",
   "metadata": {},
   "source": [
    "written in .pkl  [link](https://docs.python.org/3/library/pickle.html#pickle.dump)"
   ]
  },
  {
   "cell_type": "code",
   "execution_count": 8,
   "id": "35869a91",
   "metadata": {},
   "outputs": [],
   "source": [
    "import pickle"
   ]
  },
  {
   "cell_type": "code",
   "execution_count": 9,
   "id": "d27f172a",
   "metadata": {},
   "outputs": [],
   "source": [
    "with open(\"./area_pdf.pkl\", \"wb\") as f: \n",
    "    pickle.dump(ls, f)"
   ]
  },
  {
   "cell_type": "code",
   "execution_count": 44,
   "id": "19c2ec8f",
   "metadata": {},
   "outputs": [
    {
     "data": {
      "text/html": [
       "<div>\n",
       "<style scoped>\n",
       "    .dataframe tbody tr th:only-of-type {\n",
       "        vertical-align: middle;\n",
       "    }\n",
       "\n",
       "    .dataframe tbody tr th {\n",
       "        vertical-align: top;\n",
       "    }\n",
       "\n",
       "    .dataframe thead th {\n",
       "        text-align: right;\n",
       "    }\n",
       "</style>\n",
       "<table border=\"1\" class=\"dataframe\">\n",
       "  <thead>\n",
       "    <tr style=\"text-align: right;\">\n",
       "      <th></th>\n",
       "      <th>Unnamed: 0</th>\n",
       "      <th>70.62106784</th>\n",
       "      <th>108.034188</th>\n",
       "      <th>88.14296814</th>\n",
       "      <th>97.17689718</th>\n",
       "      <th>92.78425278</th>\n",
       "      <th>38.75737472</th>\n",
       "      <th>76.98597273</th>\n",
       "      <th>79.49276604</th>\n",
       "      <th>94.22017675</th>\n",
       "      <th>...</th>\n",
       "      <th>68.68686869</th>\n",
       "      <th>94.77337477</th>\n",
       "      <th>76.87127687</th>\n",
       "      <th>100.4092204</th>\n",
       "      <th>42.20421553</th>\n",
       "      <th>48.47119881</th>\n",
       "      <th>68.05552155</th>\n",
       "      <th>93.28012926</th>\n",
       "      <th>69.90934991</th>\n",
       "      <th>51.91803961</th>\n",
       "    </tr>\n",
       "  </thead>\n",
       "  <tbody>\n",
       "    <tr>\n",
       "      <th>0</th>\n",
       "      <td>FOX2FUS1CPR1DOX2TMP1</td>\n",
       "      <td>FOX</td>\n",
       "      <td>FUS</td>\n",
       "      <td>CPR</td>\n",
       "      <td>DOX</td>\n",
       "      <td>TMP</td>\n",
       "      <td>FOX+FUS</td>\n",
       "      <td>FOX+CPR</td>\n",
       "      <td>FOX+DOX</td>\n",
       "      <td>FOX+TMP</td>\n",
       "      <td>...</td>\n",
       "      <td>FUS+CPR+DOX</td>\n",
       "      <td>FUS+CPR+TMP</td>\n",
       "      <td>FUS+DOX+TMP</td>\n",
       "      <td>CPR+DOX+TMP</td>\n",
       "      <td>FOX+FUS+CPR+DOX</td>\n",
       "      <td>FOX+FUS+CPR+TMP</td>\n",
       "      <td>FOX+FUS+DOX+TMP</td>\n",
       "      <td>FOX+CPR+DOX+TMP</td>\n",
       "      <td>FUS+CPR+DOX+TMP</td>\n",
       "      <td>FOX+FUS+CPR+DOX+TMP</td>\n",
       "    </tr>\n",
       "    <tr>\n",
       "      <th>1</th>\n",
       "      <td>NaN</td>\n",
       "      <td>73.20862721</td>\n",
       "      <td>102.0929947</td>\n",
       "      <td>102.4070666</td>\n",
       "      <td>84.81904061</td>\n",
       "      <td>87.95975954</td>\n",
       "      <td>67.27997547</td>\n",
       "      <td>73.86282326</td>\n",
       "      <td>98.06807728</td>\n",
       "      <td>97.74097925</td>\n",
       "      <td>...</td>\n",
       "      <td>73.47319347</td>\n",
       "      <td>75.98576862</td>\n",
       "      <td>57.14145504</td>\n",
       "      <td>109.9447921</td>\n",
       "      <td>61.06511295</td>\n",
       "      <td>62.70060309</td>\n",
       "      <td>31.0129817</td>\n",
       "      <td>78.76929367</td>\n",
       "      <td>84.15163784</td>\n",
       "      <td>57.18082388</td>\n",
       "    </tr>\n",
       "    <tr>\n",
       "      <th>2</th>\n",
       "      <td>NaN</td>\n",
       "      <td>78.38106603</td>\n",
       "      <td>105.0777665</td>\n",
       "      <td>86.02683998</td>\n",
       "      <td>89.71795699</td>\n",
       "      <td>98.09242676</td>\n",
       "      <td>61.67462212</td>\n",
       "      <td>76.15354018</td>\n",
       "      <td>88.24582339</td>\n",
       "      <td>70.74383453</td>\n",
       "      <td>...</td>\n",
       "      <td>75.68774341</td>\n",
       "      <td>79.18041327</td>\n",
       "      <td>84.26066033</td>\n",
       "      <td>102.8551584</td>\n",
       "      <td>55.15115354</td>\n",
       "      <td>39.55847255</td>\n",
       "      <td>44.64996022</td>\n",
       "      <td>82.19968178</td>\n",
       "      <td>81.40302136</td>\n",
       "      <td>47.99124901</td>\n",
       "    </tr>\n",
       "    <tr>\n",
       "      <th>3</th>\n",
       "      <td>NaN</td>\n",
       "      <td>70.62106784</td>\n",
       "      <td>108.034188</td>\n",
       "      <td>88.14296814</td>\n",
       "      <td>96.51385651</td>\n",
       "      <td>93.77881378</td>\n",
       "      <td>38.75737472</td>\n",
       "      <td>76.98597273</td>\n",
       "      <td>82.62625768</td>\n",
       "      <td>94.84687508</td>\n",
       "      <td>...</td>\n",
       "      <td>70.57239057</td>\n",
       "      <td>85.82232582</td>\n",
       "      <td>70.57239057</td>\n",
       "      <td>93.77881378</td>\n",
       "      <td>37.50397807</td>\n",
       "      <td>34.99718475</td>\n",
       "      <td>63.51195868</td>\n",
       "      <td>77.92602022</td>\n",
       "      <td>70.9039109</td>\n",
       "      <td>51.44801586</td>\n",
       "    </tr>\n",
       "    <tr>\n",
       "      <th>4</th>\n",
       "      <td>FOX2FUS1CPR1DOX2TMP2</td>\n",
       "      <td>FOX</td>\n",
       "      <td>FUS</td>\n",
       "      <td>CPR</td>\n",
       "      <td>DOX</td>\n",
       "      <td>TMP</td>\n",
       "      <td>FOX+FUS</td>\n",
       "      <td>FOX+CPR</td>\n",
       "      <td>FOX+DOX</td>\n",
       "      <td>FOX+TMP</td>\n",
       "      <td>...</td>\n",
       "      <td>FUS+CPR+DOX</td>\n",
       "      <td>FUS+CPR+TMP</td>\n",
       "      <td>FUS+DOX+TMP</td>\n",
       "      <td>CPR+DOX+TMP</td>\n",
       "      <td>FOX+FUS+CPR+DOX</td>\n",
       "      <td>FOX+FUS+CPR+TMP</td>\n",
       "      <td>FOX+FUS+DOX+TMP</td>\n",
       "      <td>FOX+CPR+DOX+TMP</td>\n",
       "      <td>FUS+CPR+DOX+TMP</td>\n",
       "      <td>FOX+FUS+CPR+DOX+TMP</td>\n",
       "    </tr>\n",
       "    <tr>\n",
       "      <th>...</th>\n",
       "      <td>...</td>\n",
       "      <td>...</td>\n",
       "      <td>...</td>\n",
       "      <td>...</td>\n",
       "      <td>...</td>\n",
       "      <td>...</td>\n",
       "      <td>...</td>\n",
       "      <td>...</td>\n",
       "      <td>...</td>\n",
       "      <td>...</td>\n",
       "      <td>...</td>\n",
       "      <td>...</td>\n",
       "      <td>...</td>\n",
       "      <td>...</td>\n",
       "      <td>...</td>\n",
       "      <td>...</td>\n",
       "      <td>...</td>\n",
       "      <td>...</td>\n",
       "      <td>...</td>\n",
       "      <td>...</td>\n",
       "      <td>...</td>\n",
       "    </tr>\n",
       "    <tr>\n",
       "      <th>160</th>\n",
       "      <td>NaN</td>\n",
       "      <td>70.62106784</td>\n",
       "      <td>101.4272075</td>\n",
       "      <td>91.61546182</td>\n",
       "      <td>96.51385651</td>\n",
       "      <td>93.11577312</td>\n",
       "      <td>53.48478543</td>\n",
       "      <td>71.34568778</td>\n",
       "      <td>82.62625768</td>\n",
       "      <td>83.87965434</td>\n",
       "      <td>...</td>\n",
       "      <td>100.48716</td>\n",
       "      <td>111.7677299</td>\n",
       "      <td>95.78692257</td>\n",
       "      <td>97.04031922</td>\n",
       "      <td>65.39205366</td>\n",
       "      <td>54.42483292</td>\n",
       "      <td>63.82530784</td>\n",
       "      <td>88.89324096</td>\n",
       "      <td>97.98036672</td>\n",
       "      <td>66.95879948</td>\n",
       "    </tr>\n",
       "    <tr>\n",
       "      <th>161</th>\n",
       "      <td>FOX2FUS2CPR2DOX2TMP3</td>\n",
       "      <td>FOX</td>\n",
       "      <td>FUS</td>\n",
       "      <td>CPR</td>\n",
       "      <td>DOX</td>\n",
       "      <td>TMP</td>\n",
       "      <td>FOX+FUS</td>\n",
       "      <td>FOX+CPR</td>\n",
       "      <td>FOX+DOX</td>\n",
       "      <td>FOX+TMP</td>\n",
       "      <td>...</td>\n",
       "      <td>FUS+CPR+DOX</td>\n",
       "      <td>FUS+CPR+TMP</td>\n",
       "      <td>FUS+DOX+TMP</td>\n",
       "      <td>CPR+DOX+TMP</td>\n",
       "      <td>FOX+FUS+CPR+DOX</td>\n",
       "      <td>FOX+FUS+CPR+TMP</td>\n",
       "      <td>FOX+FUS+DOX+TMP</td>\n",
       "      <td>FOX+CPR+DOX+TMP</td>\n",
       "      <td>FUS+CPR+DOX+TMP</td>\n",
       "      <td>FOX+FUS+CPR+DOX+TMP</td>\n",
       "    </tr>\n",
       "    <tr>\n",
       "      <th>162</th>\n",
       "      <td>NaN</td>\n",
       "      <td>73.20862721</td>\n",
       "      <td>103.9558418</td>\n",
       "      <td>98.10896453</td>\n",
       "      <td>84.81904061</td>\n",
       "      <td>100.2085634</td>\n",
       "      <td>70.22385771</td>\n",
       "      <td>76.80670551</td>\n",
       "      <td>98.06807728</td>\n",
       "      <td>99.70356741</td>\n",
       "      <td>...</td>\n",
       "      <td>92.83450884</td>\n",
       "      <td>98.06807728</td>\n",
       "      <td>98.66094245</td>\n",
       "      <td>94.51088623</td>\n",
       "      <td>49.28958397</td>\n",
       "      <td>53.84851273</td>\n",
       "      <td>70.20341409</td>\n",
       "      <td>89.8906266</td>\n",
       "      <td>92.11898191</td>\n",
       "      <td>64.64274762</td>\n",
       "    </tr>\n",
       "    <tr>\n",
       "      <th>163</th>\n",
       "      <td>NaN</td>\n",
       "      <td>78.38106603</td>\n",
       "      <td>103.5202864</td>\n",
       "      <td>99.38345267</td>\n",
       "      <td>89.71795699</td>\n",
       "      <td>102.8551584</td>\n",
       "      <td>61.03818616</td>\n",
       "      <td>75.8353222</td>\n",
       "      <td>88.24582339</td>\n",
       "      <td>79.33571997</td>\n",
       "      <td>...</td>\n",
       "      <td>97.79236277</td>\n",
       "      <td>83.79077168</td>\n",
       "      <td>84.28798727</td>\n",
       "      <td>96.83770883</td>\n",
       "      <td>52.92362768</td>\n",
       "      <td>57.69689737</td>\n",
       "      <td>63.10660302</td>\n",
       "      <td>85.38186158</td>\n",
       "      <td>86.19729515</td>\n",
       "      <td>60.56085919</td>\n",
       "    </tr>\n",
       "    <tr>\n",
       "      <th>164</th>\n",
       "      <td>NaN</td>\n",
       "      <td>70.62106784</td>\n",
       "      <td>101.4272075</td>\n",
       "      <td>91.61546182</td>\n",
       "      <td>96.51385651</td>\n",
       "      <td>92.78425278</td>\n",
       "      <td>53.48478543</td>\n",
       "      <td>71.34568778</td>\n",
       "      <td>82.62625768</td>\n",
       "      <td>94.22017675</td>\n",
       "      <td>...</td>\n",
       "      <td>100.48716</td>\n",
       "      <td>108.3208891</td>\n",
       "      <td>87.01314598</td>\n",
       "      <td>97.98036672</td>\n",
       "      <td>65.39205366</td>\n",
       "      <td>72.12906069</td>\n",
       "      <td>81.99955935</td>\n",
       "      <td>83.87965434</td>\n",
       "      <td>97.66701755</td>\n",
       "      <td>69.77894196</td>\n",
       "    </tr>\n",
       "  </tbody>\n",
       "</table>\n",
       "<p>165 rows × 32 columns</p>\n",
       "</div>"
      ],
      "text/plain": [
       "               Unnamed: 0  70.62106784   108.034188  88.14296814  97.17689718  \\\n",
       "0    FOX2FUS1CPR1DOX2TMP1          FOX          FUS          CPR          DOX   \n",
       "1                     NaN  73.20862721  102.0929947  102.4070666  84.81904061   \n",
       "2                     NaN  78.38106603  105.0777665  86.02683998  89.71795699   \n",
       "3                     NaN  70.62106784   108.034188  88.14296814  96.51385651   \n",
       "4    FOX2FUS1CPR1DOX2TMP2          FOX          FUS          CPR          DOX   \n",
       "..                    ...          ...          ...          ...          ...   \n",
       "160                   NaN  70.62106784  101.4272075  91.61546182  96.51385651   \n",
       "161  FOX2FUS2CPR2DOX2TMP3          FOX          FUS          CPR          DOX   \n",
       "162                   NaN  73.20862721  103.9558418  98.10896453  84.81904061   \n",
       "163                   NaN  78.38106603  103.5202864  99.38345267  89.71795699   \n",
       "164                   NaN  70.62106784  101.4272075  91.61546182  96.51385651   \n",
       "\n",
       "     92.78425278  38.75737472  76.98597273  79.49276604  94.22017675  ...  \\\n",
       "0            TMP      FOX+FUS      FOX+CPR      FOX+DOX      FOX+TMP  ...   \n",
       "1    87.95975954  67.27997547  73.86282326  98.06807728  97.74097925  ...   \n",
       "2    98.09242676  61.67462212  76.15354018  88.24582339  70.74383453  ...   \n",
       "3    93.77881378  38.75737472  76.98597273  82.62625768  94.84687508  ...   \n",
       "4            TMP      FOX+FUS      FOX+CPR      FOX+DOX      FOX+TMP  ...   \n",
       "..           ...          ...          ...          ...          ...  ...   \n",
       "160  93.11577312  53.48478543  71.34568778  82.62625768  83.87965434  ...   \n",
       "161          TMP      FOX+FUS      FOX+CPR      FOX+DOX      FOX+TMP  ...   \n",
       "162  100.2085634  70.22385771  76.80670551  98.06807728  99.70356741  ...   \n",
       "163  102.8551584  61.03818616   75.8353222  88.24582339  79.33571997  ...   \n",
       "164  92.78425278  53.48478543  71.34568778  82.62625768  94.22017675  ...   \n",
       "\n",
       "     68.68686869  94.77337477  76.87127687  100.4092204      42.20421553  \\\n",
       "0    FUS+CPR+DOX  FUS+CPR+TMP  FUS+DOX+TMP  CPR+DOX+TMP  FOX+FUS+CPR+DOX   \n",
       "1    73.47319347  75.98576862  57.14145504  109.9447921      61.06511295   \n",
       "2    75.68774341  79.18041327  84.26066033  102.8551584      55.15115354   \n",
       "3    70.57239057  85.82232582  70.57239057  93.77881378      37.50397807   \n",
       "4    FUS+CPR+DOX  FUS+CPR+TMP  FUS+DOX+TMP  CPR+DOX+TMP  FOX+FUS+CPR+DOX   \n",
       "..           ...          ...          ...          ...              ...   \n",
       "160    100.48716  111.7677299  95.78692257  97.04031922      65.39205366   \n",
       "161  FUS+CPR+DOX  FUS+CPR+TMP  FUS+DOX+TMP  CPR+DOX+TMP  FOX+FUS+CPR+DOX   \n",
       "162  92.83450884  98.06807728  98.66094245  94.51088623      49.28958397   \n",
       "163  97.79236277  83.79077168  84.28798727  96.83770883      52.92362768   \n",
       "164    100.48716  108.3208891  87.01314598  97.98036672      65.39205366   \n",
       "\n",
       "         48.47119881      68.05552155      93.28012926      69.90934991  \\\n",
       "0    FOX+FUS+CPR+TMP  FOX+FUS+DOX+TMP  FOX+CPR+DOX+TMP  FUS+CPR+DOX+TMP   \n",
       "1        62.70060309       31.0129817      78.76929367      84.15163784   \n",
       "2        39.55847255      44.64996022      82.19968178      81.40302136   \n",
       "3        34.99718475      63.51195868      77.92602022       70.9039109   \n",
       "4    FOX+FUS+CPR+TMP  FOX+FUS+DOX+TMP  FOX+CPR+DOX+TMP  FUS+CPR+DOX+TMP   \n",
       "..               ...              ...              ...              ...   \n",
       "160      54.42483292      63.82530784      88.89324096      97.98036672   \n",
       "161  FOX+FUS+CPR+TMP  FOX+FUS+DOX+TMP  FOX+CPR+DOX+TMP  FUS+CPR+DOX+TMP   \n",
       "162      53.84851273      70.20341409       89.8906266      92.11898191   \n",
       "163      57.69689737      63.10660302      85.38186158      86.19729515   \n",
       "164      72.12906069      81.99955935      83.87965434      97.66701755   \n",
       "\n",
       "             51.91803961  \n",
       "0    FOX+FUS+CPR+DOX+TMP  \n",
       "1            57.18082388  \n",
       "2            47.99124901  \n",
       "3            51.44801586  \n",
       "4    FOX+FUS+CPR+DOX+TMP  \n",
       "..                   ...  \n",
       "160          66.95879948  \n",
       "161  FOX+FUS+CPR+DOX+TMP  \n",
       "162          64.64274762  \n",
       "163          60.56085919  \n",
       "164          69.77894196  \n",
       "\n",
       "[165 rows x 32 columns]"
      ]
     },
     "execution_count": 44,
     "metadata": {},
     "output_type": "execute_result"
    }
   ],
   "source": [
    "ls[291]"
   ]
  },
  {
   "cell_type": "code",
   "execution_count": 35,
   "id": "7e0c3b31",
   "metadata": {},
   "outputs": [
    {
     "data": {
      "text/plain": [
       "290"
      ]
     },
     "execution_count": 35,
     "metadata": {},
     "output_type": "execute_result"
    }
   ],
   "source": [
    "227+63"
   ]
  },
  {
   "cell_type": "markdown",
   "id": "b04ff017",
   "metadata": {},
   "source": [
    "---\n",
    "train test split "
   ]
  },
  {
   "cell_type": "code",
   "execution_count": 14,
   "id": "fb67fefa",
   "metadata": {},
   "outputs": [],
   "source": [
    "df_ = pd.read_csv(\"../data/parsed_small.csv\")"
   ]
  },
  {
   "cell_type": "code",
   "execution_count": 15,
   "id": "2b2ccdaf",
   "metadata": {},
   "outputs": [
    {
     "data": {
      "text/plain": [
       "10199"
      ]
     },
     "execution_count": 15,
     "metadata": {},
     "output_type": "execute_result"
    }
   ],
   "source": [
    "len(df_)"
   ]
  },
  {
   "cell_type": "code",
   "execution_count": 16,
   "id": "2b575561",
   "metadata": {},
   "outputs": [],
   "source": [
    "drug_5 = df_[df_[\"Unnamed: 0\"].apply(lambda x: len(str(x))==24)]\n",
    "test_cnt = int(330/5)"
   ]
  },
  {
   "cell_type": "code",
   "execution_count": 17,
   "id": "78dc31a6",
   "metadata": {},
   "outputs": [],
   "source": [
    "drug_5_test = drug_5[-test_cnt:]\n",
    "drug_5_train = drug_5[:-test_cnt]"
   ]
  },
  {
   "cell_type": "code",
   "execution_count": 18,
   "id": "603f73c4",
   "metadata": {},
   "outputs": [
    {
     "name": "stdout",
     "output_type": "stream",
     "text": [
      "66\n",
      "263\n",
      "329\n"
     ]
    }
   ],
   "source": [
    "print(len(drug_5_test))\n",
    "print(len(drug_5_train))\n",
    "print(len(drug_5))"
   ]
  },
  {
   "cell_type": "code",
   "execution_count": 19,
   "id": "5c006daa",
   "metadata": {},
   "outputs": [],
   "source": [
    "drug_1234 = df_[df_[\"Unnamed: 0\"].apply(lambda x: len(str(x))!=24)]"
   ]
  },
  {
   "cell_type": "code",
   "execution_count": 20,
   "id": "80805d8c",
   "metadata": {},
   "outputs": [
    {
     "name": "stdout",
     "output_type": "stream",
     "text": [
      "9870\n"
     ]
    }
   ],
   "source": [
    "print(len(drug_1234))"
   ]
  },
  {
   "cell_type": "code",
   "execution_count": 23,
   "id": "a658aa1d",
   "metadata": {},
   "outputs": [],
   "source": [
    "frames = [drug_1234, drug_5_train]\n",
    "result = pd.concat(frames)"
   ]
  },
  {
   "cell_type": "code",
   "execution_count": 25,
   "id": "66b91639",
   "metadata": {},
   "outputs": [
    {
     "name": "stdout",
     "output_type": "stream",
     "text": [
      "10199\n"
     ]
    }
   ],
   "source": [
    "print(len(result)+66)"
   ]
  },
  {
   "cell_type": "code",
   "execution_count": 27,
   "id": "5d0ca96a",
   "metadata": {},
   "outputs": [
    {
     "data": {
      "text/plain": [
       "10199"
      ]
     },
     "execution_count": 27,
     "metadata": {},
     "output_type": "execute_result"
    }
   ],
   "source": [
    "len(result) + len(drug_5_test)"
   ]
  },
  {
   "cell_type": "code",
   "execution_count": 80,
   "id": "3796f5d8",
   "metadata": {
    "collapsed": true
   },
   "outputs": [
    {
     "name": "stdout",
     "output_type": "stream",
     "text": [
      "Collecting pandas\n",
      "  Using cached pandas-1.4.3-cp39-cp39-macosx_10_9_x86_64.whl (11.5 MB)\n",
      "Collecting pytz>=2020.1\n",
      "  Using cached pytz-2022.1-py2.py3-none-any.whl (503 kB)\n",
      "Collecting numpy>=1.18.5\n",
      "  Using cached numpy-1.23.1-cp39-cp39-macosx_10_9_x86_64.whl (18.1 MB)\n",
      "Collecting python-dateutil>=2.8.1\n",
      "  Using cached python_dateutil-2.8.2-py2.py3-none-any.whl (247 kB)\n",
      "Collecting six>=1.5\n",
      "  Using cached six-1.16.0-py2.py3-none-any.whl (11 kB)\n",
      "Installing collected packages: pytz, six, numpy, python-dateutil, pandas\n",
      "  Attempting uninstall: pytz\n",
      "    Found existing installation: pytz 2022.1\n",
      "    Uninstalling pytz-2022.1:\n",
      "      Successfully uninstalled pytz-2022.1\n",
      "  Attempting uninstall: six\n",
      "    Found existing installation: six 1.16.0\n",
      "    Uninstalling six-1.16.0:\n",
      "      Successfully uninstalled six-1.16.0\n",
      "  Attempting uninstall: numpy\n",
      "    Found existing installation: numpy 1.23.1\n",
      "    Uninstalling numpy-1.23.1:\n",
      "      Successfully uninstalled numpy-1.23.1\n",
      "  Attempting uninstall: python-dateutil\n",
      "    Found existing installation: python-dateutil 2.8.2\n",
      "    Uninstalling python-dateutil-2.8.2:\n",
      "      Successfully uninstalled python-dateutil-2.8.2\n",
      "  Attempting uninstall: pandas\n",
      "    Found existing installation: pandas 1.4.3\n",
      "    Uninstalling pandas-1.4.3:\n",
      "      Successfully uninstalled pandas-1.4.3\n",
      "\u001b[31mERROR: pip's dependency resolver does not currently take into account all the packages that are installed. This behaviour is the source of the following dependency conflicts.\n",
      "daal4py 2021.3.0 requires daal==2021.2.3, which is not installed.\n",
      "conda-repo-cli 1.0.4 requires pathlib, which is not installed.\n",
      "tensorflow 2.6.2 requires numpy~=1.19.2, but you have numpy 1.23.1 which is incompatible.\n",
      "tensorflow 2.6.2 requires six~=1.15.0, but you have six 1.16.0 which is incompatible.\n",
      "scipy 1.7.1 requires numpy<1.23.0,>=1.16.5, but you have numpy 1.23.1 which is incompatible.\n",
      "numba 0.54.1 requires numpy<1.21,>=1.17, but you have numpy 1.23.1 which is incompatible.\n",
      "bokeh 2.4.1 requires typing-extensions>=3.10.0, but you have typing-extensions 3.7.4.3 which is incompatible.\u001b[0m\u001b[31m\n",
      "\u001b[0mSuccessfully installed numpy-1.23.1 pandas-1.4.3 python-dateutil-2.8.2 pytz-2022.1 six-1.16.0\n",
      "\u001b[33mWARNING: There was an error checking the latest version of pip.\u001b[0m\u001b[33m\n",
      "\u001b[0mNote: you may need to restart the kernel to use updated packages.\n"
     ]
    }
   ],
   "source": [
    "pip install --force-reinstall pandas"
   ]
  },
  {
   "cell_type": "code",
   "execution_count": 28,
   "id": "27fc0c6e",
   "metadata": {},
   "outputs": [],
   "source": [
    "drug_5_test.to_csv('small_test.csv')\n",
    "result.to_csv('small_train.csv')"
   ]
  }
 ],
 "metadata": {
  "kernelspec": {
   "display_name": "Python 3 (ipykernel)",
   "language": "python",
   "name": "python3"
  },
  "language_info": {
   "codemirror_mode": {
    "name": "ipython",
    "version": 3
   },
   "file_extension": ".py",
   "mimetype": "text/x-python",
   "name": "python",
   "nbconvert_exporter": "python",
   "pygments_lexer": "ipython3",
   "version": "3.9.7"
  }
 },
 "nbformat": 4,
 "nbformat_minor": 5
}
