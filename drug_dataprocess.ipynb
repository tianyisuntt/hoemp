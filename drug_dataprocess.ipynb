{
 "cells": [
  {
   "cell_type": "code",
   "execution_count": 1,
   "id": "aa56b178",
   "metadata": {},
   "outputs": [
    {
     "data": {
      "text/html": [
       "<style type='text/css'>\n",
       ".CodeMirror{\n",
       "font-size: 11px;\n",
       "</style>\n"
      ],
      "text/plain": [
       "<IPython.core.display.HTML object>"
      ]
     },
     "metadata": {},
     "output_type": "display_data"
    }
   ],
   "source": [
    "%%html\n",
    "<style type='text/css'>\n",
    ".CodeMirror{\n",
    "font-size: 11px;\n",
    "</style>"
   ]
  },
  {
   "cell_type": "code",
   "execution_count": 2,
   "id": "c92d1948",
   "metadata": {},
   "outputs": [],
   "source": [
    "import pandas as pd\n",
    "import numpy as np"
   ]
  },
  {
   "cell_type": "code",
   "execution_count": 48,
   "id": "d0121a35",
   "metadata": {},
   "outputs": [],
   "source": [
    "drug_0_171 = pd.read_csv(\"./drug_add_0_170.csv\")"
   ]
  },
  {
   "cell_type": "markdown",
   "id": "fbd21ee2",
   "metadata": {},
   "source": [
    "---"
   ]
  },
  {
   "cell_type": "code",
   "execution_count": 50,
   "id": "9e6b7a35",
   "metadata": {},
   "outputs": [
    {
     "data": {
      "text/html": [
       "<div>\n",
       "<style scoped>\n",
       "    .dataframe tbody tr th:only-of-type {\n",
       "        vertical-align: middle;\n",
       "    }\n",
       "\n",
       "    .dataframe tbody tr th {\n",
       "        vertical-align: top;\n",
       "    }\n",
       "\n",
       "    .dataframe thead th {\n",
       "        text-align: right;\n",
       "    }\n",
       "</style>\n",
       "<table border=\"1\" class=\"dataframe\">\n",
       "  <thead>\n",
       "    <tr style=\"text-align: right;\">\n",
       "      <th></th>\n",
       "      <th>Unnamed: 0</th>\n",
       "      <th>0</th>\n",
       "      <th>1</th>\n",
       "      <th>2</th>\n",
       "      <th>3</th>\n",
       "      <th>4</th>\n",
       "    </tr>\n",
       "  </thead>\n",
       "  <tbody>\n",
       "    <tr>\n",
       "      <th>0</th>\n",
       "      <td>AMP2</td>\n",
       "      <td>99.900951</td>\n",
       "      <td>0.0</td>\n",
       "      <td>0.0</td>\n",
       "      <td>0.0</td>\n",
       "      <td>0.0</td>\n",
       "    </tr>\n",
       "  </tbody>\n",
       "</table>\n",
       "</div>"
      ],
      "text/plain": [
       "  Unnamed: 0          0    1    2    3    4\n",
       "0       AMP2  99.900951  0.0  0.0  0.0  0.0"
      ]
     },
     "execution_count": 50,
     "metadata": {},
     "output_type": "execute_result"
    }
   ],
   "source": [
    "drug_173_227 = pd.read_csv(\"./drug_add_173_227.csv\")\n",
    "#drug_173_227.head(1)"
   ]
  },
  {
   "cell_type": "markdown",
   "id": "0d3d6351",
   "metadata": {},
   "source": [
    "---"
   ]
  },
  {
   "cell_type": "code",
   "execution_count": 52,
   "id": "bb0ceeb3",
   "metadata": {},
   "outputs": [
    {
     "data": {
      "text/html": [
       "<div>\n",
       "<style scoped>\n",
       "    .dataframe tbody tr th:only-of-type {\n",
       "        vertical-align: middle;\n",
       "    }\n",
       "\n",
       "    .dataframe tbody tr th {\n",
       "        vertical-align: top;\n",
       "    }\n",
       "\n",
       "    .dataframe thead th {\n",
       "        text-align: right;\n",
       "    }\n",
       "</style>\n",
       "<table border=\"1\" class=\"dataframe\">\n",
       "  <thead>\n",
       "    <tr style=\"text-align: right;\">\n",
       "      <th></th>\n",
       "      <th>Unnamed: 0</th>\n",
       "      <th>0</th>\n",
       "      <th>1</th>\n",
       "      <th>2</th>\n",
       "      <th>3</th>\n",
       "      <th>4</th>\n",
       "    </tr>\n",
       "  </thead>\n",
       "  <tbody>\n",
       "    <tr>\n",
       "      <th>0</th>\n",
       "      <td>FOX3</td>\n",
       "      <td>0.0</td>\n",
       "      <td>0.0</td>\n",
       "      <td>0.0</td>\n",
       "      <td>0.0</td>\n",
       "      <td>0.0</td>\n",
       "    </tr>\n",
       "  </tbody>\n",
       "</table>\n",
       "</div>"
      ],
      "text/plain": [
       "  Unnamed: 0    0    1    2    3    4\n",
       "0       FOX3  0.0  0.0  0.0  0.0  0.0"
      ]
     },
     "execution_count": 52,
     "metadata": {},
     "output_type": "execute_result"
    }
   ],
   "source": [
    "drug_228_290 = pd.read_csv(\"./drug_add_228_290.csv\")\n",
    "#drug_228_290.head(1)"
   ]
  },
  {
   "cell_type": "markdown",
   "id": "d319e044",
   "metadata": {},
   "source": [
    "---"
   ]
  },
  {
   "cell_type": "code",
   "execution_count": 56,
   "id": "20baff95",
   "metadata": {},
   "outputs": [
    {
     "data": {
      "text/html": [
       "<div>\n",
       "<style scoped>\n",
       "    .dataframe tbody tr th:only-of-type {\n",
       "        vertical-align: middle;\n",
       "    }\n",
       "\n",
       "    .dataframe tbody tr th {\n",
       "        vertical-align: top;\n",
       "    }\n",
       "\n",
       "    .dataframe thead th {\n",
       "        text-align: right;\n",
       "    }\n",
       "</style>\n",
       "<table border=\"1\" class=\"dataframe\">\n",
       "  <thead>\n",
       "    <tr style=\"text-align: right;\">\n",
       "      <th></th>\n",
       "      <th>Unnamed: 0</th>\n",
       "      <th>0</th>\n",
       "      <th>1</th>\n",
       "      <th>2</th>\n",
       "      <th>3</th>\n",
       "      <th>4</th>\n",
       "    </tr>\n",
       "  </thead>\n",
       "  <tbody>\n",
       "    <tr>\n",
       "      <th>0</th>\n",
       "      <td>FOX3</td>\n",
       "      <td>111.191597</td>\n",
       "      <td>0.0</td>\n",
       "      <td>0.0</td>\n",
       "      <td>0.0</td>\n",
       "      <td>0.0</td>\n",
       "    </tr>\n",
       "  </tbody>\n",
       "</table>\n",
       "</div>"
      ],
      "text/plain": [
       "  Unnamed: 0           0    1    2    3    4\n",
       "0       FOX3  111.191597  0.0  0.0  0.0  0.0"
      ]
     },
     "execution_count": 56,
     "metadata": {},
     "output_type": "execute_result"
    }
   ],
   "source": [
    "drug_293_300 = pd.read_csv(\"./drug_add_293_300.csv\")\n",
    "#drug_293_300.head(1)"
   ]
  },
  {
   "cell_type": "markdown",
   "id": "de32f806",
   "metadata": {},
   "source": [
    "---"
   ]
  },
  {
   "cell_type": "code",
   "execution_count": 64,
   "id": "b4860fe7",
   "metadata": {},
   "outputs": [
    {
     "name": "stderr",
     "output_type": "stream",
     "text": [
      "/var/folders/gh/3pd23sd51hn2p7774mv2zt4r0000gn/T/ipykernel_6647/369067349.py:1: FutureWarning: The frame.append method is deprecated and will be removed from pandas in a future version. Use pandas.concat instead.\n",
      "  drug_0_171.append(drug_173_227).append(drug_228_290).append(drug_293_300).to_csv(\"drug_all.csv\")\n",
      "/var/folders/gh/3pd23sd51hn2p7774mv2zt4r0000gn/T/ipykernel_6647/369067349.py:1: FutureWarning: The frame.append method is deprecated and will be removed from pandas in a future version. Use pandas.concat instead.\n",
      "  drug_0_171.append(drug_173_227).append(drug_228_290).append(drug_293_300).to_csv(\"drug_all.csv\")\n"
     ]
    }
   ],
   "source": [
    "drug_0_171.append(drug_173_227).append(drug_228_290).append(drug_293_300).to_csv(\"drug_all.csv\")"
   ]
  },
  {
   "cell_type": "code",
   "execution_count": 63,
   "id": "9ad37ad4",
   "metadata": {},
   "outputs": [
    {
     "data": {
      "text/plain": [
       "403341"
      ]
     },
     "execution_count": 63,
     "metadata": {},
     "output_type": "execute_result"
    }
   ],
   "source": [
    "len(drug_0_171) + len(drug_173_227) + len(drug_228_290) + len(drug_293_300)"
   ]
  },
  {
   "cell_type": "code",
   "execution_count": 86,
   "id": "7a5666cb",
   "metadata": {},
   "outputs": [
    {
     "name": "stderr",
     "output_type": "stream",
     "text": [
      "/var/folders/gh/3pd23sd51hn2p7774mv2zt4r0000gn/T/ipykernel_6647/3038792341.py:1: FutureWarning: The frame.append method is deprecated and will be removed from pandas in a future version. Use pandas.concat instead.\n",
      "  df = drug_0_171.append(drug_173_227).append(drug_228_290).append(drug_293_300)\n",
      "/var/folders/gh/3pd23sd51hn2p7774mv2zt4r0000gn/T/ipykernel_6647/3038792341.py:1: FutureWarning: The frame.append method is deprecated and will be removed from pandas in a future version. Use pandas.concat instead.\n",
      "  df = drug_0_171.append(drug_173_227).append(drug_228_290).append(drug_293_300)\n"
     ]
    }
   ],
   "source": [
    "df = drug_0_171.append(drug_173_227).append(drug_228_290).append(drug_293_300)"
   ]
  },
  {
   "cell_type": "code",
   "execution_count": 107,
   "id": "f0e63c9b",
   "metadata": {},
   "outputs": [],
   "source": [
    "#df[len(df['Unnamed: 0']) == 4]\n",
    "df_5_drugs = df[df[\"Unnamed: 0\"].apply(lambda x: len(str(x))==24)]"
   ]
  },
  {
   "cell_type": "code",
   "execution_count": 123,
   "id": "9af48729",
   "metadata": {},
   "outputs": [
    {
     "data": {
      "text/plain": [
       "2602.2"
      ]
     },
     "execution_count": 123,
     "metadata": {},
     "output_type": "execute_result"
    }
   ],
   "source": [
    "len(df_5_drugs[\"Unnamed: 0\"])/5"
   ]
  },
  {
   "cell_type": "code",
   "execution_count": 117,
   "id": "1fb48cc4",
   "metadata": {},
   "outputs": [],
   "source": [
    "test_cnt = int(len(df_5_drugs[\"Unnamed: 0\"])/5)\n",
    "drug_test = df_5_drugs[-test_cnt:]\n",
    "drug_5_train = df_5_drugs[:-test_cnt]"
   ]
  },
  {
   "cell_type": "code",
   "execution_count": 118,
   "id": "ab8055af",
   "metadata": {},
   "outputs": [],
   "source": [
    "drug_1234 = df[df[\"Unnamed: 0\"].apply(lambda x: len(str(x))<24)]\n",
    "frames = [drug_1234, drug_5_train]\n",
    "result = pd.concat(frames)"
   ]
  },
  {
   "cell_type": "code",
   "execution_count": 119,
   "id": "19c164d5",
   "metadata": {},
   "outputs": [
    {
     "data": {
      "text/plain": [
       "403341"
      ]
     },
     "execution_count": 119,
     "metadata": {},
     "output_type": "execute_result"
    }
   ],
   "source": [
    "len(result) + len(drug_test)"
   ]
  },
  {
   "cell_type": "code",
   "execution_count": 121,
   "id": "4f5735fb",
   "metadata": {},
   "outputs": [],
   "source": [
    "result.to_csv(\"drug_train.csv\")\n",
    "drug_test.to_csv(\"drug_test.csv\")"
   ]
  },
  {
   "cell_type": "code",
   "execution_count": 122,
   "id": "3eca5c3f",
   "metadata": {},
   "outputs": [
    {
     "data": {
      "text/plain": [
       "2602"
      ]
     },
     "execution_count": 122,
     "metadata": {},
     "output_type": "execute_result"
    }
   ],
   "source": [
    "len((drug_test))"
   ]
  },
  {
   "cell_type": "code",
   "execution_count": null,
   "id": "c6bcb012",
   "metadata": {},
   "outputs": [],
   "source": []
  }
 ],
 "metadata": {
  "kernelspec": {
   "display_name": "Python 3 (ipykernel)",
   "language": "python",
   "name": "python3"
  },
  "language_info": {
   "codemirror_mode": {
    "name": "ipython",
    "version": 3
   },
   "file_extension": ".py",
   "mimetype": "text/x-python",
   "name": "python",
   "nbconvert_exporter": "python",
   "pygments_lexer": "ipython3",
   "version": "3.9.7"
  }
 },
 "nbformat": 4,
 "nbformat_minor": 5
}
