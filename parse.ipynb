{
 "cells": [
  {
   "cell_type": "code",
   "execution_count": 1,
   "id": "8004c449",
   "metadata": {},
   "outputs": [
    {
     "data": {
      "text/html": [
       "<style type='text/css'>\n",
       ".CodeMirror{\n",
       "font-size: 11px;\n",
       "</style>\n"
      ],
      "text/plain": [
       "<IPython.core.display.HTML object>"
      ]
     },
     "metadata": {},
     "output_type": "display_data"
    }
   ],
   "source": [
    "%%html\n",
    "<style type='text/css'>\n",
    ".CodeMirror{\n",
    "font-size: 11px;\n",
    "</style>"
   ]
  },
  {
   "cell_type": "markdown",
   "id": "50523044",
   "metadata": {},
   "source": [
    ".pkl to .csv"
   ]
  },
  {
   "cell_type": "code",
   "execution_count": 5,
   "id": "a74c9adc",
   "metadata": {},
   "outputs": [],
   "source": [
    "import numpy as np\n",
    "import pdb\n",
    "from tqdm import tqdm\n",
    "import pandas as pd\n",
    "import pickle\n",
    "\n",
    "def ncols(page):\n",
    "    max_cols = 0\n",
    "    for _, row in page.iterrows():\n",
    "        ncols = len(row[~pd.isna(row)])\n",
    "        max_cols = max(max_cols, ncols)\n",
    "    return ncols\n",
    "\n",
    "def get_max_cols(lst):\n",
    "    return max([ncols(page) for page in tqdm(lst)])\n",
    "\n",
    "def parse_doses(row):\n",
    "    '''\n",
    "    Return dict mapping drug -> doseage\n",
    "    '''\n",
    "    def canonical_str(col, doses_dict):\n",
    "        '''\n",
    "        Col name: {DRUG}+{DRUG}+...+{DRUG}\n",
    "        Return: {DRUG}{DOSE}{DRUG}{DOSE}...\n",
    "        '''\n",
    "        parts = col.split('+')\n",
    "        return '-'.join([p + str(doses_dict[p]) for p in parts])\n",
    "\n",
    "    doses = {}\n",
    "    s = row[0]\n",
    "    parts = [s[i:i+4] for i in range(0, len(s), 4)]\n",
    "\n",
    "    for p in parts:\n",
    "        doses[p[:3]] = int(p[-1])\n",
    "\n",
    "    cols = []\n",
    "    for cstr in row[1:]:\n",
    "        if type(cstr) == str:\n",
    "            for c in cstr.split(' '):\n",
    "                cols.append(canonical_str(c, doses))\n",
    "        else:\n",
    "            continue\n",
    "    assert len(cols) == 31\n",
    "    return cols\n",
    "\n",
    "def clean_row(row):\n",
    "    values = []\n",
    "    for v in row.values:\n",
    "        if type(v) == str:\n",
    "            for vs in v.split(' '):\n",
    "                try:\n",
    "                    values.append(float(vs))\n",
    "                except:\n",
    "                    if 'TMP' in vs:\n",
    "                        values.append(float(vs[:6]))\n",
    "                    else:\n",
    "                        print(f\"Cant split string in clean row at page {pid}, row {i}\")\n",
    "                        pdb.set_trace()\n",
    "        else:\n",
    "            if not pd.isna(v):\n",
    "                values.append(v)\n",
    "    return np.array(values)\n"
   ]
  },
  {
   "cell_type": "markdown",
   "id": "48175e85",
   "metadata": {},
   "source": [
    "Comments:\n",
    "\n",
    "The `.isalpha()` method returns True if all the characters are alphabet letters (a-z)."
   ]
  },
  {
   "cell_type": "code",
   "execution_count": 3,
   "id": "9a439580",
   "metadata": {},
   "outputs": [
    {
     "name": "stdout",
     "output_type": "stream",
     "text": [
      "True\n",
      "False\n"
     ]
    }
   ],
   "source": [
    "print('efvr'.isalpha())\n",
    "print('e4fvr'.isalpha())"
   ]
  },
  {
   "cell_type": "code",
   "execution_count": 29,
   "id": "872f13de",
   "metadata": {},
   "outputs": [],
   "source": [
    "def parse(lst):\n",
    "    '''\n",
    "    page: DataFrame of current page\n",
    "    prev_page: previous page\n",
    "    '''\n",
    "    # loop over a page\n",
    "    cols = None\n",
    "    index = []\n",
    "    batched_values = []\n",
    "    col_vals = []\n",
    "\n",
    "    for pid, pg in tqdm(enumerate(lst)):\n",
    "        #if len(pg) <= 3: \n",
    "        #    pass\n",
    "        print(\"page #:\", pid+1)\n",
    "        #print(pg)\n",
    "        # need access to last true row of lst\n",
    "        for i, row in pg.iterrows():\n",
    "            #print(i)\n",
    "            #print(\"row index of the dataframe:\", i)\n",
    "            cleaned_row = row[~pd.isna(row)]\n",
    "            try:\n",
    "                if (type(cleaned_row.values[0]) != float) and cleaned_row.values[0][0].isalpha(): # start of a label row\n",
    "                    x = 22\n",
    "            except:\n",
    "                break\n",
    "                print(f\"Cant parse doses at page {pid}, row {i}\")\n",
    "                pdb.set_trace() # setting breakpoints and single stepping at the source line level for debugging.\n",
    "            if (type(cleaned_row.values[0]) != float) and cleaned_row.values[0][0].isalpha(): # start of a label row\n",
    "                # evict an l thing \n",
    "                if len(col_vals) > 0:\n",
    "                    #print(\"col_vals: \", len(col_vals))\n",
    "                    #print(\"COlS: ---\", cols) # label row\n",
    "                    if cols != None:\n",
    "                        #print(len(cols))\n",
    "                        index.extend(cols)\n",
    "                    batch = np.stack(col_vals).T\n",
    "                    #print(\"batch shape: \",batch.shape)\n",
    "                    assert batch.shape[0] == 31, \"Incorrect batch shape! {}\".format(batch.shape)\n",
    "                    res = np.zeros((batch.shape[0], 4))\n",
    "                    #print(\"batch: \", batch)\n",
    "                    if batch.shape[1]>=5: \n",
    "                        batch = batch.T[:3].T\n",
    "                    #print(\"batch.shape: \", batch.shape[1])   \n",
    "                    #print(\"len(batched_values): \", len(batched_values))\n",
    "                    #print(\"res.shape: \", res.shape)\n",
    "                    res[:, :batch.shape[1]] = batch\n",
    "                    batched_values.append(res)\n",
    "                    #batched_values.append(batch)\n",
    "                    col_vals = []\n",
    "\n",
    "                try:\n",
    "                    cols = parse_doses(cleaned_row)\n",
    "                except:\n",
    "                    break\n",
    "                    print(f\"Cant parse doses at page {pid}, row {i}\")\n",
    "                    pdb.set_trace()\n",
    "            else:\n",
    "                try:\n",
    "                    col_vals.append(clean_row(cleaned_row)) #cleaned_row.values.astype(float))\n",
    "                except:\n",
    "                    print(f\"Cant clean row at page {pid}, row {i}\")\n",
    "                    pdb.set_trace()\n",
    "\n",
    "    if len(col_vals) > 0:\n",
    "            index.extend(cols)\n",
    "            batch = np.stack(col_vals).T\n",
    "            assert (batch.shape[0] == 31), \"Incorrect batch shape!\"\n",
    "            res = np.zeros((batch.shape[0], 4))\n",
    "            res[:, :batch.shape[1]] = batch\n",
    "            batched_values.append(res)\n",
    "            col_vals = []\n",
    "\n",
    "    values = np.vstack(batched_values)\n",
    "    #print(type(index))\n",
    "    \n",
    "    aprox_missing = abs(values.shape[0]-len(index))\n",
    "    #print(index[-aprox_missing:])\n",
    "    index.extend(index[-aprox_missing:])\n",
    "    df = pd.DataFrame(values, index=index)\n",
    "    return df\n"
   ]
  },
  {
   "cell_type": "code",
   "execution_count": null,
   "id": "685455a5",
   "metadata": {},
   "outputs": [],
   "source": []
  },
  {
   "cell_type": "code",
   "execution_count": 31,
   "id": "c7c5d1ae",
   "metadata": {},
   "outputs": [
    {
     "name": "stdout",
     "output_type": "stream",
     "text": [
      "300\n"
     ]
    },
    {
     "name": "stderr",
     "output_type": "stream",
     "text": [
      "3it [00:00, 21.55it/s]"
     ]
    },
    {
     "name": "stdout",
     "output_type": "stream",
     "text": [
      "page #: 1\n",
      "page #: 2\n",
      "page #: 3\n",
      "page #: 4\n",
      "page #: 5\n"
     ]
    },
    {
     "name": "stderr",
     "output_type": "stream",
     "text": [
      "9it [00:00, 21.88it/s]"
     ]
    },
    {
     "name": "stdout",
     "output_type": "stream",
     "text": [
      "page #: 6\n",
      "page #: 7\n",
      "page #: 8\n",
      "page #: 9\n",
      "page #: 10\n",
      "page #: 11\n"
     ]
    },
    {
     "name": "stderr",
     "output_type": "stream",
     "text": [
      "15it [00:00, 21.96it/s]"
     ]
    },
    {
     "name": "stdout",
     "output_type": "stream",
     "text": [
      "page #: 12\n",
      "page #: 13\n",
      "page #: 14\n",
      "page #: 15\n",
      "page #: 16\n",
      "page #: 17\n",
      "page #: 18\n"
     ]
    },
    {
     "name": "stderr",
     "output_type": "stream",
     "text": [
      "21it [00:00, 22.10it/s]"
     ]
    },
    {
     "name": "stdout",
     "output_type": "stream",
     "text": [
      "page #: 19\n",
      "page #: 20\n",
      "page #: 21\n",
      "page #: 22\n",
      "page #: 23\n"
     ]
    },
    {
     "name": "stderr",
     "output_type": "stream",
     "text": [
      "27it [00:01, 21.71it/s]"
     ]
    },
    {
     "name": "stdout",
     "output_type": "stream",
     "text": [
      "page #: 24\n",
      "page #: 25\n",
      "page #: 26\n",
      "page #: 27\n",
      "page #: 28\n",
      "page #: 29\n"
     ]
    },
    {
     "name": "stderr",
     "output_type": "stream",
     "text": [
      "\r",
      "30it [00:01, 21.33it/s]"
     ]
    },
    {
     "name": "stdout",
     "output_type": "stream",
     "text": [
      "page #: 30\n",
      "page #: 31\n",
      "page #: 32\n",
      "page #: 33\n"
     ]
    },
    {
     "name": "stderr",
     "output_type": "stream",
     "text": [
      "36it [00:01, 19.72it/s]"
     ]
    },
    {
     "name": "stdout",
     "output_type": "stream",
     "text": [
      "page #: 34\n",
      "page #: 35\n",
      "page #: 36\n",
      "page #: 37\n"
     ]
    },
    {
     "name": "stderr",
     "output_type": "stream",
     "text": [
      "40it [00:01, 17.93it/s]"
     ]
    },
    {
     "name": "stdout",
     "output_type": "stream",
     "text": [
      "page #: 38\n",
      "page #: 39\n",
      "page #: 40\n",
      "page #: 41\n"
     ]
    },
    {
     "name": "stderr",
     "output_type": "stream",
     "text": [
      "45it [00:02, 18.90it/s]"
     ]
    },
    {
     "name": "stdout",
     "output_type": "stream",
     "text": [
      "page #: 42\n",
      "page #: 43\n",
      "page #: 44\n",
      "page #: 45\n",
      "page #: 46\n"
     ]
    },
    {
     "name": "stderr",
     "output_type": "stream",
     "text": [
      "\r",
      "48it [00:02, 19.51it/s]"
     ]
    },
    {
     "name": "stdout",
     "output_type": "stream",
     "text": [
      "page #: 47\n",
      "page #: 48\n",
      "page #: 49\n",
      "page #: 50\n",
      "page #: 51\n"
     ]
    },
    {
     "name": "stderr",
     "output_type": "stream",
     "text": [
      "\r",
      "51it [00:02, 19.19it/s]"
     ]
    },
    {
     "name": "stdout",
     "output_type": "stream",
     "text": [
      "page #: 52\n",
      "page #: 53\n"
     ]
    },
    {
     "name": "stderr",
     "output_type": "stream",
     "text": [
      "55it [00:02, 15.04it/s]"
     ]
    },
    {
     "name": "stdout",
     "output_type": "stream",
     "text": [
      "page #: 54\n",
      "page #: 55\n",
      "page #: 56\n",
      "page #: 57\n"
     ]
    },
    {
     "name": "stderr",
     "output_type": "stream",
     "text": [
      "60it [00:03, 18.02it/s]"
     ]
    },
    {
     "name": "stdout",
     "output_type": "stream",
     "text": [
      "page #: 58\n",
      "page #: 59\n",
      "page #: 60\n",
      "page #: 61\n",
      "page #: 62\n"
     ]
    },
    {
     "name": "stderr",
     "output_type": "stream",
     "text": [
      "69it [00:03, 21.03it/s]"
     ]
    },
    {
     "name": "stdout",
     "output_type": "stream",
     "text": [
      "page #: 63\n",
      "page #: 64\n",
      "page #: 65\n",
      "page #: 66\n",
      "page #: 67\n",
      "page #: 68\n",
      "page #: 69\n"
     ]
    },
    {
     "name": "stderr",
     "output_type": "stream",
     "text": [
      "\r",
      "72it [00:03, 21.55it/s]"
     ]
    },
    {
     "name": "stdout",
     "output_type": "stream",
     "text": [
      "page #: 70\n",
      "page #: 71\n",
      "page #: 72\n",
      "page #: 73\n",
      "page #: 74\n",
      "page #: 75\n"
     ]
    },
    {
     "name": "stderr",
     "output_type": "stream",
     "text": [
      "81it [00:04, 21.50it/s]"
     ]
    },
    {
     "name": "stdout",
     "output_type": "stream",
     "text": [
      "page #: 76\n",
      "page #: 77\n",
      "page #: 78\n",
      "page #: 79\n",
      "page #: 80\n",
      "page #: 81\n"
     ]
    },
    {
     "name": "stderr",
     "output_type": "stream",
     "text": [
      "87it [00:04, 20.48it/s]"
     ]
    },
    {
     "name": "stdout",
     "output_type": "stream",
     "text": [
      "page #: 82\n",
      "page #: 83\n",
      "page #: 84\n",
      "page #: 85\n",
      "page #: 86\n",
      "page #: 87\n",
      "page #: 88\n",
      "page #: 89\n",
      "page #:"
     ]
    },
    {
     "name": "stderr",
     "output_type": "stream",
     "text": [
      "93it [00:04, 20.72it/s]"
     ]
    },
    {
     "name": "stdout",
     "output_type": "stream",
     "text": [
      " 90\n",
      "page #: 91\n",
      "page #: 92\n",
      "page #: 93\n",
      "page #: 94\n"
     ]
    },
    {
     "name": "stderr",
     "output_type": "stream",
     "text": [
      "99it [00:04, 20.21it/s]"
     ]
    },
    {
     "name": "stdout",
     "output_type": "stream",
     "text": [
      "page #: 95\n",
      "page #: 96\n",
      "page #: 97\n",
      "page #: 98\n",
      "page #: 99\n",
      "page #: 100\n",
      "page #: 101\n",
      "page #: 102\n"
     ]
    },
    {
     "name": "stderr",
     "output_type": "stream",
     "text": [
      "105it [00:05, 20.78it/s]"
     ]
    },
    {
     "name": "stdout",
     "output_type": "stream",
     "text": [
      "page #: 103\n",
      "page #: 104\n",
      "page #: 105\n",
      "page #: 106\n",
      "page #: 107\n",
      "page #: 108\n"
     ]
    },
    {
     "name": "stderr",
     "output_type": "stream",
     "text": [
      "111it [00:05, 20.15it/s]"
     ]
    },
    {
     "name": "stdout",
     "output_type": "stream",
     "text": [
      "page #: 109\n",
      "page #: 110\n",
      "page #: 111\n",
      "page #: 112\n",
      "page #: 113\n",
      "page #: 114\n"
     ]
    },
    {
     "name": "stderr",
     "output_type": "stream",
     "text": [
      "116it [00:05, 18.71it/s]"
     ]
    },
    {
     "name": "stdout",
     "output_type": "stream",
     "text": [
      "page #: 115\n",
      "page #: 116\n",
      "page #: 117\n",
      "page #: 118\n",
      "page #: 119\n"
     ]
    },
    {
     "name": "stderr",
     "output_type": "stream",
     "text": [
      "122it [00:06, 20.77it/s]"
     ]
    },
    {
     "name": "stdout",
     "output_type": "stream",
     "text": [
      "page #: 120\n",
      "page #: 121\n",
      "page #: 122\n",
      "page #: 123\n",
      "page #: 124\n",
      "page #: 125\n"
     ]
    },
    {
     "name": "stderr",
     "output_type": "stream",
     "text": [
      "128it [00:06, 21.17it/s]"
     ]
    },
    {
     "name": "stdout",
     "output_type": "stream",
     "text": [
      "page #: 126\n",
      "page #: 127\n",
      "page #: 128\n",
      "page #: 129\n",
      "page #: 130\n"
     ]
    },
    {
     "name": "stderr",
     "output_type": "stream",
     "text": [
      "\r",
      "131it [00:06, 21.29it/s]"
     ]
    },
    {
     "name": "stdout",
     "output_type": "stream",
     "text": [
      "page #: 131\n",
      "page #: 132\n",
      "page #: 133\n",
      "page #: 134\n"
     ]
    },
    {
     "name": "stderr",
     "output_type": "stream",
     "text": [
      "136it [00:06, 16.46it/s]"
     ]
    },
    {
     "name": "stdout",
     "output_type": "stream",
     "text": [
      "page #: 135\n",
      "page #: 136\n",
      "page #: 137\n"
     ]
    },
    {
     "name": "stderr",
     "output_type": "stream",
     "text": [
      "140it [00:07, 16.80it/s]"
     ]
    },
    {
     "name": "stdout",
     "output_type": "stream",
     "text": [
      "page #: 138\n",
      "page #: 139\n",
      "page #: 140\n",
      "page #: 141\n"
     ]
    },
    {
     "name": "stderr",
     "output_type": "stream",
     "text": [
      "144it [00:07, 17.00it/s]"
     ]
    },
    {
     "name": "stdout",
     "output_type": "stream",
     "text": [
      "page #: 142\n",
      "page #: 143\n",
      "page #: 144\n",
      "page #: 145\n"
     ]
    },
    {
     "name": "stderr",
     "output_type": "stream",
     "text": [
      "149it [00:07, 18.24it/s]"
     ]
    },
    {
     "name": "stdout",
     "output_type": "stream",
     "text": [
      "page #: 146\n",
      "page #: 147\n",
      "page #: 148\n",
      "page #: 149\n"
     ]
    },
    {
     "name": "stderr",
     "output_type": "stream",
     "text": [
      "\r",
      "152it [00:07, 19.32it/s]"
     ]
    },
    {
     "name": "stdout",
     "output_type": "stream",
     "text": [
      "page #: 150\n",
      "page #: 151\n",
      "page #: 152\n",
      "page #: 153\n",
      "page #: 154\n"
     ]
    },
    {
     "name": "stderr",
     "output_type": "stream",
     "text": [
      "158it [00:08, 20.21it/s]"
     ]
    },
    {
     "name": "stdout",
     "output_type": "stream",
     "text": [
      "page #: 155\n",
      "page #: 156\n",
      "page #: 157\n",
      "page #: 158\n",
      "page #: 159\n"
     ]
    },
    {
     "name": "stderr",
     "output_type": "stream",
     "text": [
      "\r",
      "161it [00:08, 20.39it/s]"
     ]
    },
    {
     "name": "stdout",
     "output_type": "stream",
     "text": [
      "page #: 160\n",
      "page #: 161\n",
      "page #: 162\n",
      "page #: 163\n",
      "page #: 164\n"
     ]
    },
    {
     "name": "stderr",
     "output_type": "stream",
     "text": [
      "167it [00:08, 20.38it/s]"
     ]
    },
    {
     "name": "stdout",
     "output_type": "stream",
     "text": [
      "page #: 165\n",
      "page #: 166\n",
      "page #: 167\n",
      "page #: 168\n",
      "page #: 169\n"
     ]
    },
    {
     "name": "stderr",
     "output_type": "stream",
     "text": [
      "182it [00:09, 25.31it/s]"
     ]
    },
    {
     "name": "stdout",
     "output_type": "stream",
     "text": [
      "page #: 170\n",
      "page #: 171\n",
      "page #: 172\n",
      "page #: 173\n",
      "page #: 174\n",
      "page #: 175\n",
      "page #: 176\n",
      "page #: 177\n",
      "page #: 178\n",
      "page #: 179\n",
      "page #: 180\n",
      "page #: 181\n",
      "page #: 182\n"
     ]
    },
    {
     "name": "stderr",
     "output_type": "stream",
     "text": [
      "188it [00:09, 23.35it/s]"
     ]
    },
    {
     "name": "stdout",
     "output_type": "stream",
     "text": [
      "page #: 183\n",
      "page #: 184\n",
      "page #: 185\n",
      "page #: 186\n",
      "page #: 187\n",
      "page #: 188\n"
     ]
    },
    {
     "name": "stderr",
     "output_type": "stream",
     "text": [
      "194it [00:09, 21.53it/s]"
     ]
    },
    {
     "name": "stdout",
     "output_type": "stream",
     "text": [
      "page #: 189\n",
      "page #: 190\n",
      "page #: 191\n",
      "page #: 192\n",
      "page #: 193\n",
      "page #: 194\n"
     ]
    },
    {
     "name": "stderr",
     "output_type": "stream",
     "text": [
      "\r",
      "197it [00:09, 20.26it/s]"
     ]
    },
    {
     "name": "stdout",
     "output_type": "stream",
     "text": [
      "page #: 195\n",
      "page #: 196\n",
      "page #: 197\n",
      "page #: 198\n"
     ]
    },
    {
     "name": "stderr",
     "output_type": "stream",
     "text": [
      "203it [00:10, 19.82it/s]"
     ]
    },
    {
     "name": "stdout",
     "output_type": "stream",
     "text": [
      "page #: 199\n",
      "page #: 200\n",
      "page #: 201\n",
      "page #: 202\n",
      "page #: 203\n",
      "page #: 204\n"
     ]
    },
    {
     "name": "stderr",
     "output_type": "stream",
     "text": [
      "209it [00:10, 21.63it/s]"
     ]
    },
    {
     "name": "stdout",
     "output_type": "stream",
     "text": [
      "page #: 205\n",
      "page #: 206\n",
      "page #: 207\n",
      "page #: 208\n",
      "page #: 209\n"
     ]
    },
    {
     "name": "stderr",
     "output_type": "stream",
     "text": [
      "\r",
      "212it [00:10, 22.01it/s]"
     ]
    },
    {
     "name": "stdout",
     "output_type": "stream",
     "text": [
      "page #: 210\n",
      "page #: 211\n",
      "page #: 212\n",
      "page #: 213\n",
      "page #: 214\n"
     ]
    },
    {
     "name": "stderr",
     "output_type": "stream",
     "text": [
      "\r",
      "215it [00:10, 21.12it/s]"
     ]
    },
    {
     "name": "stdout",
     "output_type": "stream",
     "text": [
      "page #: 215\n",
      "page #: 216\n",
      "page #: 217\n",
      "page #: 218\n"
     ]
    },
    {
     "name": "stderr",
     "output_type": "stream",
     "text": [
      "221it [00:10, 20.44it/s]"
     ]
    },
    {
     "name": "stdout",
     "output_type": "stream",
     "text": [
      "page #: 219\n",
      "page #: 220\n",
      "page #: 221\n",
      "page #: 222\n",
      "page #: 223\n",
      "page #: 224\n"
     ]
    },
    {
     "name": "stderr",
     "output_type": "stream",
     "text": [
      "231it [00:11, 24.38it/s]"
     ]
    },
    {
     "name": "stdout",
     "output_type": "stream",
     "text": [
      "page #: 225\n",
      "page #: 226\n",
      "page #: 227\n",
      "page #: 228\n",
      "page #: 229\n",
      "page #: 230\n",
      "page #: 231\n"
     ]
    },
    {
     "name": "stderr",
     "output_type": "stream",
     "text": [
      "237it [00:11, 23.13it/s]"
     ]
    },
    {
     "name": "stdout",
     "output_type": "stream",
     "text": [
      "page #: 232\n",
      "page #: 233\n",
      "page #: 234\n",
      "page #: 235\n",
      "page #: 236\n",
      "page #: 237\n",
      "page #: 238\n"
     ]
    },
    {
     "name": "stderr",
     "output_type": "stream",
     "text": [
      "246it [00:11, 23.57it/s]"
     ]
    },
    {
     "name": "stdout",
     "output_type": "stream",
     "text": [
      "page #: 239\n",
      "page #: 240\n",
      "page #: 241\n",
      "page #: 242\n",
      "page #: 243\n",
      "page #: 244\n",
      "page #: 245\n",
      "page #: 246\n"
     ]
    },
    {
     "name": "stderr",
     "output_type": "stream",
     "text": [
      "\r",
      "249it [00:12, 23.30it/s]"
     ]
    },
    {
     "name": "stdout",
     "output_type": "stream",
     "text": [
      "page #: 247\n",
      "page #: 248\n",
      "page #: 249\n",
      "page #: 250\n",
      "page #: 251\n",
      "page #:"
     ]
    },
    {
     "name": "stderr",
     "output_type": "stream",
     "text": [
      "255it [00:12, 22.58it/s]"
     ]
    },
    {
     "name": "stdout",
     "output_type": "stream",
     "text": [
      " 252\n",
      "page #: 253\n",
      "page #: 254\n",
      "page #: 255\n",
      "page #: 256\n",
      "page #: 257\n",
      "page #: 258\n"
     ]
    },
    {
     "name": "stderr",
     "output_type": "stream",
     "text": [
      "262it [00:12, 23.17it/s]"
     ]
    },
    {
     "name": "stdout",
     "output_type": "stream",
     "text": [
      "page #: 259\n",
      "page #: 260\n",
      "page #: 261\n",
      "page #: 262\n",
      "page #: 263\n",
      "page #: 264\n",
      "page #: 265\n"
     ]
    },
    {
     "name": "stderr",
     "output_type": "stream",
     "text": [
      "268it [00:12, 21.95it/s]"
     ]
    },
    {
     "name": "stdout",
     "output_type": "stream",
     "text": [
      "page #: 266\n",
      "page #: 267\n",
      "page #: 268\n",
      "page #: 269\n",
      "page #: 270\n",
      "page #: 271\n",
      "page #: 272\n"
     ]
    },
    {
     "name": "stderr",
     "output_type": "stream",
     "text": [
      "\r",
      "272it [00:13, 22.61it/s]"
     ]
    },
    {
     "name": "stdout",
     "output_type": "stream",
     "text": [
      "page #: 273\n",
      "page #: 274\n"
     ]
    },
    {
     "name": "stderr",
     "output_type": "stream",
     "text": [
      "278it [00:13, 18.23it/s]"
     ]
    },
    {
     "name": "stdout",
     "output_type": "stream",
     "text": [
      "page #: 275\n",
      "page #: 276\n",
      "page #: 277\n",
      "page #: 278\n"
     ]
    },
    {
     "name": "stderr",
     "output_type": "stream",
     "text": [
      "\r",
      "281it [00:13, 19.06it/s]"
     ]
    },
    {
     "name": "stdout",
     "output_type": "stream",
     "text": [
      "page #: 279\n",
      "page #: 280\n",
      "page #: 281\n",
      "page #: 282\n",
      "page #: 283\n"
     ]
    },
    {
     "name": "stderr",
     "output_type": "stream",
     "text": [
      "287it [00:13, 19.97it/s]"
     ]
    },
    {
     "name": "stdout",
     "output_type": "stream",
     "text": [
      "page #: 284\n",
      "page #: 285\n",
      "page #: 286\n",
      "page #: 287\n",
      "page #: 288\n"
     ]
    },
    {
     "name": "stderr",
     "output_type": "stream",
     "text": [
      "\r",
      "290it [00:14, 20.61it/s]"
     ]
    },
    {
     "name": "stdout",
     "output_type": "stream",
     "text": [
      "page #: 289\n",
      "page #: 290\n",
      "page #: 291\n",
      "page #: 292\n",
      "page #: 293\n",
      "page #: 294\n",
      "page #: 295\n"
     ]
    },
    {
     "name": "stderr",
     "output_type": "stream",
     "text": [
      "300it [00:14, 20.70it/s]"
     ]
    },
    {
     "name": "stdout",
     "output_type": "stream",
     "text": [
      "page #: 296\n",
      "page #: 297\n",
      "page #: 298\n",
      "page #: 299\n",
      "page #: 300\n"
     ]
    },
    {
     "name": "stderr",
     "output_type": "stream",
     "text": [
      "\n"
     ]
    },
    {
     "name": "stdout",
     "output_type": "stream",
     "text": [
      "(404550, 4)\n"
     ]
    }
   ],
   "source": [
    " def main():\n",
    "    f = open('data/area_pdf.pkl', 'rb')\n",
    "    #f = open('./small.pkl', 'rb')    \n",
    "    lst = pickle.load(f)\n",
    "    print(len(lst))\n",
    "    #lst = lst[:170] + lst[171] \n",
    "    #lst = lst[173:227]\n",
    "    #lst = lst[228:290]\n",
    "    #lst = lst[291:292]\n",
    "    #print(len(lst))\n",
    "    parsed_df = parse(lst)\n",
    "    print(parsed_df.shape)\n",
    "    parsed_df.to_csv('./drug_all_v2.csv')\n",
    "if __name__ == '__main__':\n",
    "    main()"
   ]
  },
  {
   "cell_type": "code",
   "execution_count": null,
   "id": "da5e3bb1",
   "metadata": {},
   "outputs": [],
   "source": [
    "#pip install --force-reinstall pandas"
   ]
  }
 ],
 "metadata": {
  "kernelspec": {
   "display_name": "Python 3 (ipykernel)",
   "language": "python",
   "name": "python3"
  },
  "language_info": {
   "codemirror_mode": {
    "name": "ipython",
    "version": 3
   },
   "file_extension": ".py",
   "mimetype": "text/x-python",
   "name": "python",
   "nbconvert_exporter": "python",
   "pygments_lexer": "ipython3",
   "version": "3.9.7"
  }
 },
 "nbformat": 4,
 "nbformat_minor": 5
}
