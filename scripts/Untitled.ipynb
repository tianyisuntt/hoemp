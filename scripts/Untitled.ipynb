{
 "cells": [
  {
   "cell_type": "code",
   "execution_count": 15,
   "id": "434474dd",
   "metadata": {},
   "outputs": [],
   "source": [
    "import pandas as pd\n",
    "d = pd.read_csv(\"./data/small_test.csv\")"
   ]
  },
  {
   "cell_type": "code",
   "execution_count": 17,
   "id": "2480af74",
   "metadata": {},
   "outputs": [],
   "source": [
    "d.drop('Unnamed: 0.1', axis=1, inplace=True)"
   ]
  },
  {
   "cell_type": "code",
   "execution_count": 19,
   "id": "1bc6d1c4",
   "metadata": {},
   "outputs": [],
   "source": [
    "d.columns = ['combo', 0, 1, 2, 3, 4]"
   ]
  },
  {
   "cell_type": "code",
   "execution_count": 20,
   "id": "adb7c3ee",
   "metadata": {},
   "outputs": [
    {
     "data": {
      "text/html": [
       "<div>\n",
       "<style scoped>\n",
       "    .dataframe tbody tr th:only-of-type {\n",
       "        vertical-align: middle;\n",
       "    }\n",
       "\n",
       "    .dataframe tbody tr th {\n",
       "        vertical-align: top;\n",
       "    }\n",
       "\n",
       "    .dataframe thead th {\n",
       "        text-align: right;\n",
       "    }\n",
       "</style>\n",
       "<table border=\"1\" class=\"dataframe\">\n",
       "  <thead>\n",
       "    <tr style=\"text-align: right;\">\n",
       "      <th></th>\n",
       "      <th>combo</th>\n",
       "      <th>0</th>\n",
       "      <th>1</th>\n",
       "      <th>2</th>\n",
       "      <th>3</th>\n",
       "      <th>4</th>\n",
       "    </tr>\n",
       "  </thead>\n",
       "  <tbody>\n",
       "    <tr>\n",
       "      <th>0</th>\n",
       "      <td>AMP1-CPR1-ERY3-FUS3-DOX1</td>\n",
       "      <td>24.312350</td>\n",
       "      <td>16.782384</td>\n",
       "      <td>19.978840</td>\n",
       "      <td>0.0</td>\n",
       "      <td>0.0</td>\n",
       "    </tr>\n",
       "    <tr>\n",
       "      <th>1</th>\n",
       "      <td>AMP1-CPR1-ERY3-FUS3-DOX2</td>\n",
       "      <td>52.224478</td>\n",
       "      <td>40.587185</td>\n",
       "      <td>40.821725</td>\n",
       "      <td>0.0</td>\n",
       "      <td>0.0</td>\n",
       "    </tr>\n",
       "    <tr>\n",
       "      <th>2</th>\n",
       "      <td>AMP1-CPR1-ERY3-FUS3-DOX3</td>\n",
       "      <td>51.043013</td>\n",
       "      <td>47.391391</td>\n",
       "      <td>38.000353</td>\n",
       "      <td>0.0</td>\n",
       "      <td>0.0</td>\n",
       "    </tr>\n",
       "    <tr>\n",
       "      <th>3</th>\n",
       "      <td>AMP1-CPR2-ERY1-FUS1-DOX1</td>\n",
       "      <td>73.195496</td>\n",
       "      <td>43.900020</td>\n",
       "      <td>42.232411</td>\n",
       "      <td>0.0</td>\n",
       "      <td>0.0</td>\n",
       "    </tr>\n",
       "    <tr>\n",
       "      <th>4</th>\n",
       "      <td>AMP1-CPR2-ERY1-FUS1-DOX2</td>\n",
       "      <td>0.941481</td>\n",
       "      <td>1.229915</td>\n",
       "      <td>5.307706</td>\n",
       "      <td>0.0</td>\n",
       "      <td>0.0</td>\n",
       "    </tr>\n",
       "    <tr>\n",
       "      <th>...</th>\n",
       "      <td>...</td>\n",
       "      <td>...</td>\n",
       "      <td>...</td>\n",
       "      <td>...</td>\n",
       "      <td>...</td>\n",
       "      <td>...</td>\n",
       "    </tr>\n",
       "    <tr>\n",
       "      <th>61</th>\n",
       "      <td>AMP2-CPR1-ERY1-FUS2-DOX2</td>\n",
       "      <td>44.085218</td>\n",
       "      <td>31.417035</td>\n",
       "      <td>31.272016</td>\n",
       "      <td>0.0</td>\n",
       "      <td>0.0</td>\n",
       "    </tr>\n",
       "    <tr>\n",
       "      <th>62</th>\n",
       "      <td>AMP2-CPR1-ERY1-FUS2-DOX3</td>\n",
       "      <td>35.413941</td>\n",
       "      <td>26.802538</td>\n",
       "      <td>30.645793</td>\n",
       "      <td>0.0</td>\n",
       "      <td>0.0</td>\n",
       "    </tr>\n",
       "    <tr>\n",
       "      <th>63</th>\n",
       "      <td>AMP2-CPR1-ERY1-FUS3-DOX1</td>\n",
       "      <td>34.815922</td>\n",
       "      <td>21.572774</td>\n",
       "      <td>20.000000</td>\n",
       "      <td>0.0</td>\n",
       "      <td>0.0</td>\n",
       "    </tr>\n",
       "    <tr>\n",
       "      <th>64</th>\n",
       "      <td>AMP2-CPR1-ERY1-FUS3-DOX2</td>\n",
       "      <td>59.334704</td>\n",
       "      <td>59.046337</td>\n",
       "      <td>62.211350</td>\n",
       "      <td>0.0</td>\n",
       "      <td>0.0</td>\n",
       "    </tr>\n",
       "    <tr>\n",
       "      <th>65</th>\n",
       "      <td>AMP2-CPR1-ERY1-FUS3-DOX2</td>\n",
       "      <td>63.221828</td>\n",
       "      <td>73.197462</td>\n",
       "      <td>63.150685</td>\n",
       "      <td>0.0</td>\n",
       "      <td>0.0</td>\n",
       "    </tr>\n",
       "  </tbody>\n",
       "</table>\n",
       "<p>66 rows × 6 columns</p>\n",
       "</div>"
      ],
      "text/plain": [
       "                       combo          0          1          2    3    4\n",
       "0   AMP1-CPR1-ERY3-FUS3-DOX1  24.312350  16.782384  19.978840  0.0  0.0\n",
       "1   AMP1-CPR1-ERY3-FUS3-DOX2  52.224478  40.587185  40.821725  0.0  0.0\n",
       "2   AMP1-CPR1-ERY3-FUS3-DOX3  51.043013  47.391391  38.000353  0.0  0.0\n",
       "3   AMP1-CPR2-ERY1-FUS1-DOX1  73.195496  43.900020  42.232411  0.0  0.0\n",
       "4   AMP1-CPR2-ERY1-FUS1-DOX2   0.941481   1.229915   5.307706  0.0  0.0\n",
       "..                       ...        ...        ...        ...  ...  ...\n",
       "61  AMP2-CPR1-ERY1-FUS2-DOX2  44.085218  31.417035  31.272016  0.0  0.0\n",
       "62  AMP2-CPR1-ERY1-FUS2-DOX3  35.413941  26.802538  30.645793  0.0  0.0\n",
       "63  AMP2-CPR1-ERY1-FUS3-DOX1  34.815922  21.572774  20.000000  0.0  0.0\n",
       "64  AMP2-CPR1-ERY1-FUS3-DOX2  59.334704  59.046337  62.211350  0.0  0.0\n",
       "65  AMP2-CPR1-ERY1-FUS3-DOX2  63.221828  73.197462  63.150685  0.0  0.0\n",
       "\n",
       "[66 rows x 6 columns]"
      ]
     },
     "execution_count": 20,
     "metadata": {},
     "output_type": "execute_result"
    }
   ],
   "source": [
    "d"
   ]
  },
  {
   "cell_type": "code",
   "execution_count": 13,
   "id": "5cdc6e95",
   "metadata": {},
   "outputs": [
    {
     "data": {
      "text/plain": [
       "263"
      ]
     },
     "execution_count": 13,
     "metadata": {},
     "output_type": "execute_result"
    }
   ],
   "source": [
    "len(pd.read_csv(\"./data/small_train.csv\"))"
   ]
  },
  {
   "cell_type": "code",
   "execution_count": null,
   "id": "027c0801",
   "metadata": {},
   "outputs": [],
   "source": []
  }
 ],
 "metadata": {
  "kernelspec": {
   "display_name": "Python 3 (ipykernel)",
   "language": "python",
   "name": "python3"
  },
  "language_info": {
   "codemirror_mode": {
    "name": "ipython",
    "version": 3
   },
   "file_extension": ".py",
   "mimetype": "text/x-python",
   "name": "python",
   "nbconvert_exporter": "python",
   "pygments_lexer": "ipython3",
   "version": "3.9.7"
  }
 },
 "nbformat": 4,
 "nbformat_minor": 5
}
