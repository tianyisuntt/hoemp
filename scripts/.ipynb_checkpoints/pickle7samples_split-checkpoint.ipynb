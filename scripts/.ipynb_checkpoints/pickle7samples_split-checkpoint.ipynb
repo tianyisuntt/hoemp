{
 "cells": [
  {
   "cell_type": "code",
   "execution_count": 6,
   "id": "9d18d92f",
   "metadata": {},
   "outputs": [
    {
     "data": {
      "text/html": [
       "<style type='text/css'>\n",
       ".CodeMirror{\n",
       "font-size: 11px;\n",
       "</style>\n"
      ],
      "text/plain": [
       "<IPython.core.display.HTML object>"
      ]
     },
     "metadata": {},
     "output_type": "display_data"
    }
   ],
   "source": [
    "%%html\n",
    "<style type='text/css'>\n",
    ".CodeMirror{\n",
    "font-size: 11px;\n",
    "</style>"
   ]
  },
  {
   "cell_type": "code",
   "execution_count": 2,
   "id": "03b3a0bb",
   "metadata": {
    "collapsed": true
   },
   "outputs": [
    {
     "name": "stdout",
     "output_type": "stream",
     "text": [
      "Requirement already satisfied: tabula-py in /opt/anaconda3/lib/python3.9/site-packages (2.4.0)\n",
      "Requirement already satisfied: pandas>=0.25.3 in /opt/anaconda3/lib/python3.9/site-packages (from tabula-py) (1.3.4)\n",
      "Requirement already satisfied: numpy in /opt/anaconda3/lib/python3.9/site-packages (from tabula-py) (1.20.0)\n",
      "Requirement already satisfied: distro in /opt/anaconda3/lib/python3.9/site-packages (from tabula-py) (1.7.0)\n",
      "Requirement already satisfied: python-dateutil>=2.7.3 in /opt/anaconda3/lib/python3.9/site-packages (from pandas>=0.25.3->tabula-py) (2.8.2)\n",
      "Requirement already satisfied: pytz>=2017.3 in /opt/anaconda3/lib/python3.9/site-packages (from pandas>=0.25.3->tabula-py) (2021.3)\n",
      "Requirement already satisfied: six>=1.5 in /opt/anaconda3/lib/python3.9/site-packages (from python-dateutil>=2.7.3->pandas>=0.25.3->tabula-py) (1.15.0)\n",
      "\u001b[33mWARNING: There was an error checking the latest version of pip.\u001b[0m\u001b[33m\n",
      "\u001b[0mNote: you may need to restart the kernel to use updated packages.\n"
     ]
    }
   ],
   "source": [
    "#pip install tabula-py"
   ]
  },
  {
   "cell_type": "markdown",
   "id": "4abc66ab",
   "metadata": {},
   "source": [
    ".pdf to .csv [link](https://fedingo.com/how-to-convert-pdf-to-csv-in-python/)"
   ]
  },
  {
   "cell_type": "code",
   "execution_count": 7,
   "id": "1bae65d2",
   "metadata": {},
   "outputs": [],
   "source": [
    "import pandas as pd\n",
    "from tabula import read_pdf"
   ]
  },
  {
   "cell_type": "code",
   "execution_count": 4,
   "id": "b1093688",
   "metadata": {},
   "outputs": [],
   "source": [
    "ls = []\n",
    "for i in range(1, 8):\n",
    "    df = read_pdf(\"data_drug/drug.pdf\", pages=i)[0]\n",
    "    ls.append(df)"
   ]
  },
  {
   "cell_type": "code",
   "execution_count": 5,
   "id": "62faeda3",
   "metadata": {},
   "outputs": [
    {
     "data": {
      "text/plain": [
       "7"
      ]
     },
     "execution_count": 5,
     "metadata": {},
     "output_type": "execute_result"
    }
   ],
   "source": [
    "len(ls)"
   ]
  },
  {
   "cell_type": "markdown",
   "id": "6b4a8ac1",
   "metadata": {},
   "source": [
    "written in .pkl  [link](https://docs.python.org/3/library/pickle.html#pickle.dump)"
   ]
  },
  {
   "cell_type": "code",
   "execution_count": 6,
   "id": "35869a91",
   "metadata": {},
   "outputs": [],
   "source": [
    "import pickle"
   ]
  },
  {
   "cell_type": "code",
   "execution_count": 7,
   "id": "d27f172a",
   "metadata": {},
   "outputs": [],
   "source": [
    "with open(\"./small.pkl\", \"wb\") as f: \n",
    "    pickle.dump(ls, f)"
   ]
  },
  {
   "cell_type": "markdown",
   "id": "b04ff017",
   "metadata": {},
   "source": [
    "---\n",
    "train test split "
   ]
  },
  {
   "cell_type": "code",
   "execution_count": 14,
   "id": "fb67fefa",
   "metadata": {},
   "outputs": [],
   "source": [
    "df_ = pd.read_csv(\"../data/parsed_small.csv\")"
   ]
  },
  {
   "cell_type": "code",
   "execution_count": 15,
   "id": "2b2ccdaf",
   "metadata": {},
   "outputs": [
    {
     "data": {
      "text/plain": [
       "10199"
      ]
     },
     "execution_count": 15,
     "metadata": {},
     "output_type": "execute_result"
    }
   ],
   "source": [
    "len(df_)"
   ]
  },
  {
   "cell_type": "code",
   "execution_count": 16,
   "id": "2b575561",
   "metadata": {},
   "outputs": [],
   "source": [
    "drug_5 = df_[df_[\"Unnamed: 0\"].apply(lambda x: len(str(x))==24)]\n",
    "test_cnt = int(330/5)"
   ]
  },
  {
   "cell_type": "code",
   "execution_count": 17,
   "id": "78dc31a6",
   "metadata": {},
   "outputs": [],
   "source": [
    "drug_5_test = drug_5[-test_cnt:]\n",
    "drug_5_train = drug_5[:-test_cnt]"
   ]
  },
  {
   "cell_type": "code",
   "execution_count": 18,
   "id": "603f73c4",
   "metadata": {},
   "outputs": [
    {
     "name": "stdout",
     "output_type": "stream",
     "text": [
      "66\n",
      "263\n",
      "329\n"
     ]
    }
   ],
   "source": [
    "print(len(drug_5_test))\n",
    "print(len(drug_5_train))\n",
    "print(len(drug_5))"
   ]
  },
  {
   "cell_type": "code",
   "execution_count": 19,
   "id": "5c006daa",
   "metadata": {},
   "outputs": [],
   "source": [
    "drug_1234 = df_[df_[\"Unnamed: 0\"].apply(lambda x: len(str(x))!=24)]"
   ]
  },
  {
   "cell_type": "code",
   "execution_count": 20,
   "id": "80805d8c",
   "metadata": {},
   "outputs": [
    {
     "name": "stdout",
     "output_type": "stream",
     "text": [
      "9870\n"
     ]
    }
   ],
   "source": [
    "print(len(drug_1234))"
   ]
  },
  {
   "cell_type": "code",
   "execution_count": 23,
   "id": "a658aa1d",
   "metadata": {},
   "outputs": [],
   "source": [
    "frames = [drug_1234, drug_5_train]\n",
    "result = pd.concat(frames)"
   ]
  },
  {
   "cell_type": "code",
   "execution_count": 25,
   "id": "66b91639",
   "metadata": {},
   "outputs": [
    {
     "name": "stdout",
     "output_type": "stream",
     "text": [
      "10199\n"
     ]
    }
   ],
   "source": [
    "print(len(result)+66)"
   ]
  },
  {
   "cell_type": "code",
   "execution_count": 27,
   "id": "5d0ca96a",
   "metadata": {},
   "outputs": [
    {
     "data": {
      "text/plain": [
       "10199"
      ]
     },
     "execution_count": 27,
     "metadata": {},
     "output_type": "execute_result"
    }
   ],
   "source": [
    "len(result) + len(drug_5_test)"
   ]
  },
  {
   "cell_type": "code",
   "execution_count": 80,
   "id": "3796f5d8",
   "metadata": {
    "collapsed": true
   },
   "outputs": [
    {
     "name": "stdout",
     "output_type": "stream",
     "text": [
      "Collecting pandas\n",
      "  Using cached pandas-1.4.3-cp39-cp39-macosx_10_9_x86_64.whl (11.5 MB)\n",
      "Collecting pytz>=2020.1\n",
      "  Using cached pytz-2022.1-py2.py3-none-any.whl (503 kB)\n",
      "Collecting numpy>=1.18.5\n",
      "  Using cached numpy-1.23.1-cp39-cp39-macosx_10_9_x86_64.whl (18.1 MB)\n",
      "Collecting python-dateutil>=2.8.1\n",
      "  Using cached python_dateutil-2.8.2-py2.py3-none-any.whl (247 kB)\n",
      "Collecting six>=1.5\n",
      "  Using cached six-1.16.0-py2.py3-none-any.whl (11 kB)\n",
      "Installing collected packages: pytz, six, numpy, python-dateutil, pandas\n",
      "  Attempting uninstall: pytz\n",
      "    Found existing installation: pytz 2022.1\n",
      "    Uninstalling pytz-2022.1:\n",
      "      Successfully uninstalled pytz-2022.1\n",
      "  Attempting uninstall: six\n",
      "    Found existing installation: six 1.16.0\n",
      "    Uninstalling six-1.16.0:\n",
      "      Successfully uninstalled six-1.16.0\n",
      "  Attempting uninstall: numpy\n",
      "    Found existing installation: numpy 1.23.1\n",
      "    Uninstalling numpy-1.23.1:\n",
      "      Successfully uninstalled numpy-1.23.1\n",
      "  Attempting uninstall: python-dateutil\n",
      "    Found existing installation: python-dateutil 2.8.2\n",
      "    Uninstalling python-dateutil-2.8.2:\n",
      "      Successfully uninstalled python-dateutil-2.8.2\n",
      "  Attempting uninstall: pandas\n",
      "    Found existing installation: pandas 1.4.3\n",
      "    Uninstalling pandas-1.4.3:\n",
      "      Successfully uninstalled pandas-1.4.3\n",
      "\u001b[31mERROR: pip's dependency resolver does not currently take into account all the packages that are installed. This behaviour is the source of the following dependency conflicts.\n",
      "daal4py 2021.3.0 requires daal==2021.2.3, which is not installed.\n",
      "conda-repo-cli 1.0.4 requires pathlib, which is not installed.\n",
      "tensorflow 2.6.2 requires numpy~=1.19.2, but you have numpy 1.23.1 which is incompatible.\n",
      "tensorflow 2.6.2 requires six~=1.15.0, but you have six 1.16.0 which is incompatible.\n",
      "scipy 1.7.1 requires numpy<1.23.0,>=1.16.5, but you have numpy 1.23.1 which is incompatible.\n",
      "numba 0.54.1 requires numpy<1.21,>=1.17, but you have numpy 1.23.1 which is incompatible.\n",
      "bokeh 2.4.1 requires typing-extensions>=3.10.0, but you have typing-extensions 3.7.4.3 which is incompatible.\u001b[0m\u001b[31m\n",
      "\u001b[0mSuccessfully installed numpy-1.23.1 pandas-1.4.3 python-dateutil-2.8.2 pytz-2022.1 six-1.16.0\n",
      "\u001b[33mWARNING: There was an error checking the latest version of pip.\u001b[0m\u001b[33m\n",
      "\u001b[0mNote: you may need to restart the kernel to use updated packages.\n"
     ]
    }
   ],
   "source": [
    "pip install --force-reinstall pandas"
   ]
  },
  {
   "cell_type": "code",
   "execution_count": 28,
   "id": "27fc0c6e",
   "metadata": {},
   "outputs": [],
   "source": [
    "drug_5_test.to_csv('small_test.csv')\n",
    "result.to_csv('small_train.csv')"
   ]
  }
 ],
 "metadata": {
  "kernelspec": {
   "display_name": "Python 3 (ipykernel)",
   "language": "python",
   "name": "python3"
  },
  "language_info": {
   "codemirror_mode": {
    "name": "ipython",
    "version": 3
   },
   "file_extension": ".py",
   "mimetype": "text/x-python",
   "name": "python",
   "nbconvert_exporter": "python",
   "pygments_lexer": "ipython3",
   "version": "3.9.7"
  }
 },
 "nbformat": 4,
 "nbformat_minor": 5
}
