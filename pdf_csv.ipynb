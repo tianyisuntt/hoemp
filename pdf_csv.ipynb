{
 "cells": [
  {
   "cell_type": "code",
   "execution_count": 1,
   "id": "9d18d92f",
   "metadata": {},
   "outputs": [
    {
     "data": {
      "text/html": [
       "<style type='text/css'>\n",
       ".CodeMirror{\n",
       "font-size: 11px;\n",
       "</style>\n"
      ],
      "text/plain": [
       "<IPython.core.display.HTML object>"
      ]
     },
     "metadata": {},
     "output_type": "display_data"
    }
   ],
   "source": [
    "%%html\n",
    "<style type='text/css'>\n",
    ".CodeMirror{\n",
    "font-size: 11px;\n",
    "</style>"
   ]
  },
  {
   "cell_type": "markdown",
   "id": "4abc66ab",
   "metadata": {},
   "source": [
    ".pdf to .csv [link](https://fedingo.com/how-to-convert-pdf-to-csv-in-python/)"
   ]
  },
  {
   "cell_type": "code",
   "execution_count": 58,
   "id": "1bae65d2",
   "metadata": {},
   "outputs": [],
   "source": [
    "#pip install tabula-py\n",
    "import pandas as pd\n",
    "import tabula\n",
    "from tabula import read_pdf"
   ]
  },
  {
   "cell_type": "code",
   "execution_count": 3,
   "id": "b1093688",
   "metadata": {},
   "outputs": [
    {
     "name": "stderr",
     "output_type": "stream",
     "text": [
      "'pages' argument isn't specified.Will extract only from page 1 by default.\n"
     ]
    }
   ],
   "source": [
    "ls = []\n",
    "for i in range(0, 300):\n",
    "    df = read_pdf(\"data_drug/drug.pdf\", pages=i)[0]\n",
    "    ls.append(df)"
   ]
  },
  {
   "cell_type": "code",
   "execution_count": 4,
   "id": "62faeda3",
   "metadata": {},
   "outputs": [
    {
     "data": {
      "text/plain": [
       "300"
      ]
     },
     "execution_count": 4,
     "metadata": {},
     "output_type": "execute_result"
    }
   ],
   "source": [
    "len(ls)"
   ]
  },
  {
   "cell_type": "markdown",
   "id": "6b4a8ac1",
   "metadata": {},
   "source": [
    "written in .pkl  [link](https://docs.python.org/3/library/pickle.html#pickle.dump)"
   ]
  },
  {
   "cell_type": "code",
   "execution_count": 5,
   "id": "35869a91",
   "metadata": {},
   "outputs": [],
   "source": [
    "import pickle"
   ]
  },
  {
   "cell_type": "code",
   "execution_count": 6,
   "id": "d27f172a",
   "metadata": {},
   "outputs": [],
   "source": [
    "with open(\"./area_pdf_31.pkl\", \"wb\") as f: \n",
    "    pickle.dump(ls, f)"
   ]
  },
  {
   "cell_type": "code",
   "execution_count": null,
   "id": "2525cfa7",
   "metadata": {},
   "outputs": [],
   "source": []
  },
  {
   "cell_type": "code",
   "execution_count": 14,
   "id": "fc882f64",
   "metadata": {},
   "outputs": [
    {
     "name": "stdout",
     "output_type": "stream",
     "text": [
      "Collecting PyPDF2\n",
      "  Downloading PyPDF2-2.8.1-py3-none-any.whl (204 kB)\n",
      "\u001b[2K     \u001b[90m━━━━━━━━━━━━━━━━━━━━━━━━━━━━━━━━━━━━━━━\u001b[0m \u001b[32m204.8/204.8 kB\u001b[0m \u001b[31m1.2 MB/s\u001b[0m eta \u001b[36m0:00:00\u001b[0m00:01\u001b[0m00:01\u001b[0m\n",
      "\u001b[?25hRequirement already satisfied: typing-extensions in /opt/anaconda3/lib/python3.9/site-packages (from PyPDF2) (3.7.4.3)\n",
      "Installing collected packages: PyPDF2\n",
      "Successfully installed PyPDF2-2.8.1\n",
      "\u001b[33mWARNING: There was an error checking the latest version of pip.\u001b[0m\u001b[33m\n",
      "\u001b[0mNote: you may need to restart the kernel to use updated packages.\n"
     ]
    }
   ],
   "source": [
    "#pip install PyPDF2"
   ]
  },
  {
   "cell_type": "code",
   "execution_count": 103,
   "id": "99ef8224",
   "metadata": {},
   "outputs": [],
   "source": [
    "import PyPDF2\n",
    "pdf_fileobj=open('data_drug/drug.pdf','rb')\n",
    "pdf_reader=PyPDF2.PdfFileReader(pdf_fileobj)"
   ]
  },
  {
   "cell_type": "code",
   "execution_count": 104,
   "id": "057782f0",
   "metadata": {},
   "outputs": [
    {
     "data": {
      "text/plain": [
       "300"
      ]
     },
     "execution_count": 104,
     "metadata": {},
     "output_type": "execute_result"
    }
   ],
   "source": [
    "x=pdf_reader.numPages\n",
    "x"
   ]
  },
  {
   "cell_type": "code",
   "execution_count": 89,
   "id": "0b314168",
   "metadata": {},
   "outputs": [],
   "source": [
    "x=pdf_reader.numPages # or PyPDF2.PdfFileReader.getNumPages(pdfreader)\n",
    "pageobj=pdfreader.getPage(x-1)\n",
    "text=pageobj.extractText() # do not rely on the order of the text \n",
    "file1=open(r\"data_drug/drug.txt\",\"a\")\n",
    "file1.writelines(text)\n",
    "dataframe1 = pd.read_csv(\"data_drug/drug.txt\")"
   ]
  },
  {
   "cell_type": "code",
   "execution_count": 92,
   "id": "b920c4b9",
   "metadata": {},
   "outputs": [
    {
     "data": {
      "text/plain": [
       "21038"
      ]
     },
     "execution_count": 92,
     "metadata": {},
     "output_type": "execute_result"
    }
   ],
   "source": [
    "len(dataframe1)"
   ]
  },
  {
   "cell_type": "markdown",
   "id": "afd05ddf",
   "metadata": {},
   "source": [
    "---\n",
    "---"
   ]
  },
  {
   "cell_type": "code",
   "execution_count": 108,
   "id": "e3cbb5ee",
   "metadata": {},
   "outputs": [],
   "source": [
    "from PyPDF2 import PdfFileWriter, PdfFileReader\n",
    "inputpdf = PdfFileReader(open(\"data_drug/drug.pdf\", \"rb\"))"
   ]
  },
  {
   "cell_type": "code",
   "execution_count": 111,
   "id": "1cee1b77",
   "metadata": {},
   "outputs": [],
   "source": [
    "for i in range(inputpdf.numPages):\n",
    "    output = PdfFileWriter()\n",
    "    output.addPage(inputpdf.getPage(i))\n",
    "    with open(\"split_drug/document-page%s.pdf\" % i, \"wb\") as outputStream:\n",
    "        output.write(outputStream)"
   ]
  },
  {
   "cell_type": "code",
   "execution_count": 113,
   "id": "7285964a",
   "metadata": {},
   "outputs": [
    {
     "data": {
      "text/plain": [
       "300"
      ]
     },
     "execution_count": 113,
     "metadata": {},
     "output_type": "execute_result"
    }
   ],
   "source": [
    "inputpdf.numPages"
   ]
  },
  {
   "cell_type": "code",
   "execution_count": 119,
   "id": "d95e8e2a",
   "metadata": {},
   "outputs": [],
   "source": [
    "### convert .pdf to .txt one by one\n",
    "import os, PyPDF2\n",
    "# split the complete files to 300 independent files\n",
    "for file in os.listdir(\"split_drug/\"):\n",
    "    if file.endswith(\".pdf\"):\n",
    "        fpath=os.path.join(\"split_drug/\", file)\n",
    "        pdffileobj=open(fpath,'rb')\n",
    "        pdfreader=PyPDF2.PdfFileReader(pdffileobj)\n",
    "        x=pdfreader.numPages\n",
    "        pageobj=pdfreader.getPage(x-1)\n",
    "        text=pageobj.extractText()\n",
    "        file1=open(r\"data_drug/drug.txt\",\"a\")\n",
    "        file1.writelines(text)"
   ]
  },
  {
   "cell_type": "code",
   "execution_count": null,
   "id": "920125f0",
   "metadata": {},
   "outputs": [],
   "source": []
  },
  {
   "cell_type": "markdown",
   "id": "b04ff017",
   "metadata": {},
   "source": [
    "---\n",
    "train test split "
   ]
  },
  {
   "cell_type": "code",
   "execution_count": 123,
   "id": "fb67fefa",
   "metadata": {},
   "outputs": [],
   "source": [
    "df_ = pd.read_csv(\"data/drug_all_v2.csv\")"
   ]
  },
  {
   "cell_type": "code",
   "execution_count": 128,
   "id": "c94bd7f6",
   "metadata": {},
   "outputs": [
    {
     "data": {
      "text/html": [
       "<div>\n",
       "<style scoped>\n",
       "    .dataframe tbody tr th:only-of-type {\n",
       "        vertical-align: middle;\n",
       "    }\n",
       "\n",
       "    .dataframe tbody tr th {\n",
       "        vertical-align: top;\n",
       "    }\n",
       "\n",
       "    .dataframe thead th {\n",
       "        text-align: right;\n",
       "    }\n",
       "</style>\n",
       "<table border=\"1\" class=\"dataframe\">\n",
       "  <thead>\n",
       "    <tr style=\"text-align: right;\">\n",
       "      <th></th>\n",
       "      <th>Unnamed: 0</th>\n",
       "      <th>0</th>\n",
       "      <th>1</th>\n",
       "      <th>2</th>\n",
       "      <th>3</th>\n",
       "    </tr>\n",
       "  </thead>\n",
       "  <tbody>\n",
       "    <tr>\n",
       "      <th>0</th>\n",
       "      <td>AMP1</td>\n",
       "      <td>86.395037</td>\n",
       "      <td>74.510390</td>\n",
       "      <td>0.0</td>\n",
       "      <td>0.0</td>\n",
       "    </tr>\n",
       "    <tr>\n",
       "      <th>1</th>\n",
       "      <td>CPR1</td>\n",
       "      <td>101.508529</td>\n",
       "      <td>92.450292</td>\n",
       "      <td>0.0</td>\n",
       "      <td>0.0</td>\n",
       "    </tr>\n",
       "  </tbody>\n",
       "</table>\n",
       "</div>"
      ],
      "text/plain": [
       "  Unnamed: 0           0          1    2    3\n",
       "0       AMP1   86.395037  74.510390  0.0  0.0\n",
       "1       CPR1  101.508529  92.450292  0.0  0.0"
      ]
     },
     "execution_count": 128,
     "metadata": {},
     "output_type": "execute_result"
    }
   ],
   "source": [
    "df_.head(2)"
   ]
  },
  {
   "cell_type": "code",
   "execution_count": 126,
   "id": "2b575561",
   "metadata": {},
   "outputs": [
    {
     "data": {
      "text/plain": [
       "2610"
      ]
     },
     "execution_count": 126,
     "metadata": {},
     "output_type": "execute_result"
    }
   ],
   "source": [
    "drug_5 = df_[df_[\"Unnamed: 0\"].apply(lambda x: len(str(x))==24)]\n",
    "test_cnt = int(len(drug_5)/5)\n",
    "test_cnt"
   ]
  },
  {
   "cell_type": "code",
   "execution_count": 129,
   "id": "78dc31a6",
   "metadata": {},
   "outputs": [],
   "source": [
    "drug_5_test = drug_5[-test_cnt:]\n",
    "drug_5_train = drug_5[:-test_cnt]"
   ]
  },
  {
   "cell_type": "code",
   "execution_count": 130,
   "id": "603f73c4",
   "metadata": {},
   "outputs": [
    {
     "name": "stdout",
     "output_type": "stream",
     "text": [
      "2610\n",
      "10440\n",
      "13050\n"
     ]
    }
   ],
   "source": [
    "print(len(drug_5_test))\n",
    "print(len(drug_5_train))\n",
    "print(len(drug_5))"
   ]
  },
  {
   "cell_type": "code",
   "execution_count": 131,
   "id": "5c006daa",
   "metadata": {},
   "outputs": [],
   "source": [
    "drug_1234 = df_[df_[\"Unnamed: 0\"].apply(lambda x: len(str(x))!=24)]"
   ]
  },
  {
   "cell_type": "code",
   "execution_count": 132,
   "id": "80805d8c",
   "metadata": {},
   "outputs": [
    {
     "name": "stdout",
     "output_type": "stream",
     "text": [
      "391500\n"
     ]
    }
   ],
   "source": [
    "print(len(drug_1234))"
   ]
  },
  {
   "cell_type": "code",
   "execution_count": 134,
   "id": "a658aa1d",
   "metadata": {},
   "outputs": [],
   "source": [
    "train = [drug_1234, drug_5_train]\n",
    "train_all = pd.concat(train)"
   ]
  },
  {
   "cell_type": "code",
   "execution_count": 138,
   "id": "66b91639",
   "metadata": {},
   "outputs": [
    {
     "name": "stdout",
     "output_type": "stream",
     "text": [
      "404550\n",
      "404550\n"
     ]
    }
   ],
   "source": [
    "print(len(train_all)+len(drug_5_test))\n",
    "print(len(df_))"
   ]
  },
  {
   "cell_type": "code",
   "execution_count": 139,
   "id": "3796f5d8",
   "metadata": {},
   "outputs": [],
   "source": [
    "#pip install --force-reinstall pandas"
   ]
  },
  {
   "cell_type": "code",
   "execution_count": 140,
   "id": "27fc0c6e",
   "metadata": {},
   "outputs": [],
   "source": [
    "drug_5_test.to_csv('drug_test_v2.csv')\n",
    "train_all.to_csv('drug_train_v2.csv')"
   ]
  },
  {
   "cell_type": "code",
   "execution_count": 156,
   "id": "0f418203",
   "metadata": {},
   "outputs": [
    {
     "data": {
      "text/plain": [
       "0.0"
      ]
     },
     "execution_count": 156,
     "metadata": {},
     "output_type": "execute_result"
    }
   ],
   "source": [
    "sorted(train_all['3'])[len(train_all)//2]"
   ]
  },
  {
   "cell_type": "code",
   "execution_count": 157,
   "id": "43dcf5d4",
   "metadata": {},
   "outputs": [
    {
     "data": {
      "text/plain": [
       "76.24627607"
      ]
     },
     "execution_count": 157,
     "metadata": {},
     "output_type": "execute_result"
    }
   ],
   "source": [
    "sorted(train_all['2'])[len(train_all)//2]"
   ]
  },
  {
   "cell_type": "code",
   "execution_count": 173,
   "id": "54fd6ffc",
   "metadata": {},
   "outputs": [
    {
     "data": {
      "text/html": [
       "<div>\n",
       "<style scoped>\n",
       "    .dataframe tbody tr th:only-of-type {\n",
       "        vertical-align: middle;\n",
       "    }\n",
       "\n",
       "    .dataframe tbody tr th {\n",
       "        vertical-align: top;\n",
       "    }\n",
       "\n",
       "    .dataframe thead th {\n",
       "        text-align: right;\n",
       "    }\n",
       "</style>\n",
       "<table border=\"1\" class=\"dataframe\">\n",
       "  <thead>\n",
       "    <tr style=\"text-align: right;\">\n",
       "      <th></th>\n",
       "      <th>Unnamed: 0.1</th>\n",
       "      <th>Unnamed: 0</th>\n",
       "      <th>0</th>\n",
       "      <th>1</th>\n",
       "      <th>2</th>\n",
       "      <th>3</th>\n",
       "    </tr>\n",
       "  </thead>\n",
       "  <tbody>\n",
       "    <tr>\n",
       "      <th>0</th>\n",
       "      <td>0</td>\n",
       "      <td>AMP1</td>\n",
       "      <td>86.395037</td>\n",
       "      <td>74.510390</td>\n",
       "      <td>0.000000</td>\n",
       "      <td>0.0</td>\n",
       "    </tr>\n",
       "    <tr>\n",
       "      <th>1</th>\n",
       "      <td>1</td>\n",
       "      <td>CPR1</td>\n",
       "      <td>101.508529</td>\n",
       "      <td>92.450292</td>\n",
       "      <td>0.000000</td>\n",
       "      <td>0.0</td>\n",
       "    </tr>\n",
       "    <tr>\n",
       "      <th>2</th>\n",
       "      <td>2</td>\n",
       "      <td>ERY1</td>\n",
       "      <td>96.997039</td>\n",
       "      <td>94.124682</td>\n",
       "      <td>0.000000</td>\n",
       "      <td>0.0</td>\n",
       "    </tr>\n",
       "    <tr>\n",
       "      <th>3</th>\n",
       "      <td>3</td>\n",
       "      <td>DOX1</td>\n",
       "      <td>105.117722</td>\n",
       "      <td>98.669457</td>\n",
       "      <td>0.000000</td>\n",
       "      <td>0.0</td>\n",
       "    </tr>\n",
       "    <tr>\n",
       "      <th>4</th>\n",
       "      <td>4</td>\n",
       "      <td>TMP2</td>\n",
       "      <td>100.155083</td>\n",
       "      <td>106.802213</td>\n",
       "      <td>0.000000</td>\n",
       "      <td>0.0</td>\n",
       "    </tr>\n",
       "    <tr>\n",
       "      <th>...</th>\n",
       "      <td>...</td>\n",
       "      <td>...</td>\n",
       "      <td>...</td>\n",
       "      <td>...</td>\n",
       "      <td>...</td>\n",
       "      <td>...</td>\n",
       "    </tr>\n",
       "    <tr>\n",
       "      <th>401935</th>\n",
       "      <td>323515</td>\n",
       "      <td>FOX1-CPR2-STR2-ERY1-DOX3</td>\n",
       "      <td>41.439722</td>\n",
       "      <td>34.749035</td>\n",
       "      <td>29.493862</td>\n",
       "      <td>0.0</td>\n",
       "    </tr>\n",
       "    <tr>\n",
       "      <th>401936</th>\n",
       "      <td>323546</td>\n",
       "      <td>FOX1-CPR2-STR2-ERY2-DOX1</td>\n",
       "      <td>44.770165</td>\n",
       "      <td>35.263835</td>\n",
       "      <td>25.727257</td>\n",
       "      <td>0.0</td>\n",
       "    </tr>\n",
       "    <tr>\n",
       "      <th>401937</th>\n",
       "      <td>323577</td>\n",
       "      <td>FOX1-CPR2-STR2-ERY2-DOX2</td>\n",
       "      <td>60.034692</td>\n",
       "      <td>41.698842</td>\n",
       "      <td>37.834202</td>\n",
       "      <td>0.0</td>\n",
       "    </tr>\n",
       "    <tr>\n",
       "      <th>401938</th>\n",
       "      <td>323608</td>\n",
       "      <td>FOX1-CPR2-STR2-ERY2-DOX3</td>\n",
       "      <td>38.664354</td>\n",
       "      <td>21.879022</td>\n",
       "      <td>31.259459</td>\n",
       "      <td>0.0</td>\n",
       "    </tr>\n",
       "    <tr>\n",
       "      <th>401939</th>\n",
       "      <td>323639</td>\n",
       "      <td>FOX1-CPR2-STR2-ERY3-DOX1</td>\n",
       "      <td>36.999133</td>\n",
       "      <td>33.848134</td>\n",
       "      <td>39.330755</td>\n",
       "      <td>0.0</td>\n",
       "    </tr>\n",
       "  </tbody>\n",
       "</table>\n",
       "<p>401940 rows × 6 columns</p>\n",
       "</div>"
      ],
      "text/plain": [
       "        Unnamed: 0.1                Unnamed: 0           0           1  \\\n",
       "0                  0                      AMP1   86.395037   74.510390   \n",
       "1                  1                      CPR1  101.508529   92.450292   \n",
       "2                  2                      ERY1   96.997039   94.124682   \n",
       "3                  3                      DOX1  105.117722   98.669457   \n",
       "4                  4                      TMP2  100.155083  106.802213   \n",
       "...              ...                       ...         ...         ...   \n",
       "401935        323515  FOX1-CPR2-STR2-ERY1-DOX3   41.439722   34.749035   \n",
       "401936        323546  FOX1-CPR2-STR2-ERY2-DOX1   44.770165   35.263835   \n",
       "401937        323577  FOX1-CPR2-STR2-ERY2-DOX2   60.034692   41.698842   \n",
       "401938        323608  FOX1-CPR2-STR2-ERY2-DOX3   38.664354   21.879022   \n",
       "401939        323639  FOX1-CPR2-STR2-ERY3-DOX1   36.999133   33.848134   \n",
       "\n",
       "                2    3  \n",
       "0        0.000000  0.0  \n",
       "1        0.000000  0.0  \n",
       "2        0.000000  0.0  \n",
       "3        0.000000  0.0  \n",
       "4        0.000000  0.0  \n",
       "...           ...  ...  \n",
       "401935  29.493862  0.0  \n",
       "401936  25.727257  0.0  \n",
       "401937  37.834202  0.0  \n",
       "401938  31.259459  0.0  \n",
       "401939  39.330755  0.0  \n",
       "\n",
       "[401940 rows x 6 columns]"
      ]
     },
     "execution_count": 173,
     "metadata": {},
     "output_type": "execute_result"
    }
   ],
   "source": [
    "train = pd.read_csv(\"./data/drug_train_v2.csv\")\n",
    "train"
   ]
  },
  {
   "cell_type": "code",
   "execution_count": 171,
   "id": "05b870a7",
   "metadata": {},
   "outputs": [
    {
     "data": {
      "text/html": [
       "<div>\n",
       "<style scoped>\n",
       "    .dataframe tbody tr th:only-of-type {\n",
       "        vertical-align: middle;\n",
       "    }\n",
       "\n",
       "    .dataframe tbody tr th {\n",
       "        vertical-align: top;\n",
       "    }\n",
       "\n",
       "    .dataframe thead th {\n",
       "        text-align: right;\n",
       "    }\n",
       "</style>\n",
       "<table border=\"1\" class=\"dataframe\">\n",
       "  <thead>\n",
       "    <tr style=\"text-align: right;\">\n",
       "      <th></th>\n",
       "      <th>Unnamed: 0.1</th>\n",
       "      <th>Unnamed: 0</th>\n",
       "      <th>0</th>\n",
       "      <th>1</th>\n",
       "      <th>2</th>\n",
       "      <th>3</th>\n",
       "    </tr>\n",
       "  </thead>\n",
       "  <tbody>\n",
       "  </tbody>\n",
       "</table>\n",
       "</div>"
      ],
      "text/plain": [
       "Empty DataFrame\n",
       "Columns: [Unnamed: 0.1, Unnamed: 0, 0, 1, 2, 3]\n",
       "Index: []"
      ]
     },
     "execution_count": 171,
     "metadata": {},
     "output_type": "execute_result"
    }
   ],
   "source": [
    "import re\n",
    "train[train[\"Unnamed: 0\"].apply(lambda x: re.search(\"AMP\", x) ==True)]"
   ]
  },
  {
   "cell_type": "code",
   "execution_count": 172,
   "id": "4397574d",
   "metadata": {},
   "outputs": [
    {
     "data": {
      "text/plain": [
       "0                             AMP1\n",
       "1                             CPR1\n",
       "2                             ERY1\n",
       "3                             DOX1\n",
       "4                             TMP2\n",
       "                    ...           \n",
       "401935    FOX1-CPR2-STR2-ERY1-DOX3\n",
       "401936    FOX1-CPR2-STR2-ERY2-DOX1\n",
       "401937    FOX1-CPR2-STR2-ERY2-DOX2\n",
       "401938    FOX1-CPR2-STR2-ERY2-DOX3\n",
       "401939    FOX1-CPR2-STR2-ERY3-DOX1\n",
       "Name: Unnamed: 0, Length: 401940, dtype: object"
      ]
     },
     "execution_count": 172,
     "metadata": {},
     "output_type": "execute_result"
    }
   ],
   "source": [
    "train[\"Unnamed: 0\"]"
   ]
  }
 ],
 "metadata": {
  "kernelspec": {
   "display_name": "Python 3 (ipykernel)",
   "language": "python",
   "name": "python3"
  },
  "language_info": {
   "codemirror_mode": {
    "name": "ipython",
    "version": 3
   },
   "file_extension": ".py",
   "mimetype": "text/x-python",
   "name": "python",
   "nbconvert_exporter": "python",
   "pygments_lexer": "ipython3",
   "version": "3.9.7"
  }
 },
 "nbformat": 4,
 "nbformat_minor": 5
}
