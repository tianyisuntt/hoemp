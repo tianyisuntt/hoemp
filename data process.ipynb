{
 "cells": [
  {
   "cell_type": "code",
   "execution_count": 1,
   "id": "ba5faada",
   "metadata": {},
   "outputs": [
    {
     "data": {
      "text/html": [
       "<style type='text/css'>\n",
       ".CodeMirror{\n",
       "font-size: 11px;\n",
       "</style>\n"
      ],
      "text/plain": [
       "<IPython.core.display.HTML object>"
      ]
     },
     "metadata": {},
     "output_type": "display_data"
    }
   ],
   "source": [
    "%%html\n",
    "<style type='text/css'>\n",
    ".CodeMirror{\n",
    "font-size: 11px;\n",
    "</style>"
   ]
  },
  {
   "cell_type": "markdown",
   "id": "d14cb819",
   "metadata": {},
   "source": [
    "two ways of addressing the missing rows issue: \n",
    "- split pdf into 300 independent ones -> convert .pdf to .pkl -> run on parse.py\n",
    "- .pdf to .txt to .csv -> rewrite parse.py file according to the .csv"
   ]
  },
  {
   "cell_type": "markdown",
   "id": "a6d86b4b",
   "metadata": {},
   "source": [
    "---\n",
    "way1"
   ]
  },
  {
   "cell_type": "code",
   "execution_count": 3,
   "id": "67595061",
   "metadata": {},
   "outputs": [],
   "source": [
    "import pandas as pd\n",
    "import tabula\n",
    "from tabula import read_pdf\n",
    "\n",
    "ls = []\n",
    "for i in range(0, 300):\n",
    "    df = read_pdf(\"split_drug/document-page%s.pdf\" % i, pages=1)[0]\n",
    "    ls.append(df)\n",
    "    "
   ]
  },
  {
   "cell_type": "code",
   "execution_count": 9,
   "id": "2c277d08",
   "metadata": {},
   "outputs": [
    {
     "data": {
      "text/html": [
       "<div>\n",
       "<style scoped>\n",
       "    .dataframe tbody tr th:only-of-type {\n",
       "        vertical-align: middle;\n",
       "    }\n",
       "\n",
       "    .dataframe tbody tr th {\n",
       "        vertical-align: top;\n",
       "    }\n",
       "\n",
       "    .dataframe thead th {\n",
       "        text-align: right;\n",
       "    }\n",
       "</style>\n",
       "<table border=\"1\" class=\"dataframe\">\n",
       "  <thead>\n",
       "    <tr style=\"text-align: right;\">\n",
       "      <th></th>\n",
       "      <th>91.76946941</th>\n",
       "      <th>107.0566131</th>\n",
       "      <th>103.7008986</th>\n",
       "      <th>101.8764215</th>\n",
       "      <th>94.59818044</th>\n",
       "      <th>63.59544998</th>\n",
       "      <th>49.63660991</th>\n",
       "      <th>55.39259238</th>\n",
       "      <th>91.76946941.1</th>\n",
       "      <th>85.43089762</th>\n",
       "      <th>...</th>\n",
       "      <th>1.165178636</th>\n",
       "      <th>83.19375464</th>\n",
       "      <th>78.34661151</th>\n",
       "      <th>83.19375464.1</th>\n",
       "      <th>3.658660918</th>\n",
       "      <th>33.60375188</th>\n",
       "      <th>40.31518082</th>\n",
       "      <th>-1.817678673</th>\n",
       "      <th>49.42687776</th>\n",
       "      <th>9.368036237</th>\n",
       "    </tr>\n",
       "  </thead>\n",
       "  <tbody>\n",
       "    <tr>\n",
       "      <th>0</th>\n",
       "      <td>87.660553</td>\n",
       "      <td>95.976810</td>\n",
       "      <td>95.936828</td>\n",
       "      <td>114.104661</td>\n",
       "      <td>99.713818</td>\n",
       "      <td>70.008496</td>\n",
       "      <td>47.358689</td>\n",
       "      <td>58.173822</td>\n",
       "      <td>96.296667</td>\n",
       "      <td>80.303863</td>\n",
       "      <td>...</td>\n",
       "      <td>10.515268</td>\n",
       "      <td>85.421560</td>\n",
       "      <td>71.987606</td>\n",
       "      <td>77.105303</td>\n",
       "      <td>5.077715</td>\n",
       "      <td>24.968764</td>\n",
       "      <td>47.298716</td>\n",
       "      <td>10.835124</td>\n",
       "      <td>21.390374</td>\n",
       "      <td>2.838723</td>\n",
       "    </tr>\n",
       "    <tr>\n",
       "      <th>1</th>\n",
       "      <td>99.900951</td>\n",
       "      <td>97.365293</td>\n",
       "      <td>109.409667</td>\n",
       "      <td>110.730654</td>\n",
       "      <td>99.267766</td>\n",
       "      <td>57.111727</td>\n",
       "      <td>51.406498</td>\n",
       "      <td>31.755151</td>\n",
       "      <td>60.598257</td>\n",
       "      <td>89.441363</td>\n",
       "      <td>...</td>\n",
       "      <td>6.893819</td>\n",
       "      <td>69.473059</td>\n",
       "      <td>75.178288</td>\n",
       "      <td>81.834390</td>\n",
       "      <td>2.912044</td>\n",
       "      <td>21.929477</td>\n",
       "      <td>34.924723</td>\n",
       "      <td>0.059429</td>\n",
       "      <td>12.123613</td>\n",
       "      <td>2.278130</td>\n",
       "    </tr>\n",
       "  </tbody>\n",
       "</table>\n",
       "<p>2 rows × 31 columns</p>\n",
       "</div>"
      ],
      "text/plain": [
       "   91.76946941  107.0566131  103.7008986  101.8764215  94.59818044  \\\n",
       "0    87.660553    95.976810    95.936828   114.104661    99.713818   \n",
       "1    99.900951    97.365293   109.409667   110.730654    99.267766   \n",
       "\n",
       "   63.59544998  49.63660991  55.39259238  91.76946941.1  85.43089762  ...  \\\n",
       "0    70.008496    47.358689    58.173822      96.296667    80.303863  ...   \n",
       "1    57.111727    51.406498    31.755151      60.598257    89.441363  ...   \n",
       "\n",
       "   1.165178636  83.19375464  78.34661151  83.19375464.1  3.658660918  \\\n",
       "0    10.515268    85.421560    71.987606      77.105303     5.077715   \n",
       "1     6.893819    69.473059    75.178288      81.834390     2.912044   \n",
       "\n",
       "   33.60375188  40.31518082  -1.817678673  49.42687776  9.368036237  \n",
       "0    24.968764    47.298716     10.835124    21.390374     2.838723  \n",
       "1    21.929477    34.924723      0.059429    12.123613     2.278130  \n",
       "\n",
       "[2 rows x 31 columns]"
      ]
     },
     "execution_count": 9,
     "metadata": {},
     "output_type": "execute_result"
    }
   ],
   "source": [
    "ls[171]"
   ]
  },
  {
   "cell_type": "markdown",
   "id": "5364b3f4",
   "metadata": {},
   "source": [
    "---\n",
    "way2"
   ]
  },
  {
   "cell_type": "code",
   "execution_count": 7,
   "id": "bc6f31d5",
   "metadata": {},
   "outputs": [],
   "source": [
    "drug = pd.read_csv(\"data_drug/drug.txt\")"
   ]
  },
  {
   "cell_type": "code",
   "execution_count": 8,
   "id": "36d266e9",
   "metadata": {},
   "outputs": [
    {
     "data": {
      "text/html": [
       "<div>\n",
       "<style scoped>\n",
       "    .dataframe tbody tr th:only-of-type {\n",
       "        vertical-align: middle;\n",
       "    }\n",
       "\n",
       "    .dataframe tbody tr th {\n",
       "        vertical-align: top;\n",
       "    }\n",
       "\n",
       "    .dataframe thead th {\n",
       "        text-align: right;\n",
       "    }\n",
       "</style>\n",
       "<table border=\"1\" class=\"dataframe\">\n",
       "  <thead>\n",
       "    <tr style=\"text-align: right;\">\n",
       "      <th></th>\n",
       "      <th>AMP1CPR1ERY1DOX1TMP1</th>\n",
       "    </tr>\n",
       "  </thead>\n",
       "  <tbody>\n",
       "    <tr>\n",
       "      <th>0</th>\n",
       "      <td>AMP</td>\n",
       "    </tr>\n",
       "    <tr>\n",
       "      <th>1</th>\n",
       "      <td>CPR</td>\n",
       "    </tr>\n",
       "    <tr>\n",
       "      <th>2</th>\n",
       "      <td>ERY</td>\n",
       "    </tr>\n",
       "    <tr>\n",
       "      <th>3</th>\n",
       "      <td>DOX</td>\n",
       "    </tr>\n",
       "    <tr>\n",
       "      <th>4</th>\n",
       "      <td>TMP</td>\n",
       "    </tr>\n",
       "    <tr>\n",
       "      <th>...</th>\n",
       "      <td>...</td>\n",
       "    </tr>\n",
       "    <tr>\n",
       "      <th>1812071</th>\n",
       "      <td>101.2382184</td>\n",
       "    </tr>\n",
       "    <tr>\n",
       "      <th>1812072</th>\n",
       "      <td>4.564775457</td>\n",
       "    </tr>\n",
       "    <tr>\n",
       "      <th>1812073</th>\n",
       "      <td>3.38199963</td>\n",
       "    </tr>\n",
       "    <tr>\n",
       "      <th>1812074</th>\n",
       "      <td>68.3792275</td>\n",
       "    </tr>\n",
       "    <tr>\n",
       "      <th>1812075</th>\n",
       "      <td>92.07</td>\n",
       "    </tr>\n",
       "  </tbody>\n",
       "</table>\n",
       "<p>1812076 rows × 1 columns</p>\n",
       "</div>"
      ],
      "text/plain": [
       "        AMP1CPR1ERY1DOX1TMP1\n",
       "0                        AMP\n",
       "1                        CPR\n",
       "2                        ERY\n",
       "3                        DOX\n",
       "4                        TMP\n",
       "...                      ...\n",
       "1812071          101.2382184\n",
       "1812072          4.564775457\n",
       "1812073           3.38199963\n",
       "1812074           68.3792275\n",
       "1812075                92.07\n",
       "\n",
       "[1812076 rows x 1 columns]"
      ]
     },
     "execution_count": 8,
     "metadata": {},
     "output_type": "execute_result"
    }
   ],
   "source": [
    "drug"
   ]
  },
  {
   "cell_type": "code",
   "execution_count": null,
   "id": "30b07a1d",
   "metadata": {},
   "outputs": [],
   "source": []
  },
  {
   "cell_type": "code",
   "execution_count": 2,
   "id": "f9b3630b",
   "metadata": {},
   "outputs": [],
   "source": [
    "import pickle\n",
    "with open(\"./area_pdf_v2.pkl\", \"wb\") as f: \n",
    "    pickle.dump(ls, f)"
   ]
  }
 ],
 "metadata": {
  "kernelspec": {
   "display_name": "Python 3 (ipykernel)",
   "language": "python",
   "name": "python3"
  },
  "language_info": {
   "codemirror_mode": {
    "name": "ipython",
    "version": 3
   },
   "file_extension": ".py",
   "mimetype": "text/x-python",
   "name": "python",
   "nbconvert_exporter": "python",
   "pygments_lexer": "ipython3",
   "version": "3.9.7"
  }
 },
 "nbformat": 4,
 "nbformat_minor": 5
}
