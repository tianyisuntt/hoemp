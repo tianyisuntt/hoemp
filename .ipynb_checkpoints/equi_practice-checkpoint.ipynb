{
 "cells": [
  {
   "cell_type": "code",
   "execution_count": 1,
   "id": "b95dd57a",
   "metadata": {},
   "outputs": [
    {
     "data": {
      "text/html": [
       "<style type='text/css'>\n",
       ".CodeMirror{\n",
       "font-size: 11px;\n",
       "</style>\n"
      ],
      "text/plain": [
       "<IPython.core.display.HTML object>"
      ]
     },
     "metadata": {},
     "output_type": "display_data"
    }
   ],
   "source": [
    "%%html\n",
    "<style type='text/css'>\n",
    ".CodeMirror{\n",
    "font-size: 11px;\n",
    "</style>"
   ]
  },
  {
   "cell_type": "code",
   "execution_count": 3,
   "id": "9f2e3fce",
   "metadata": {},
   "outputs": [],
   "source": [
    "import torch\n",
    "import numpy as np \n",
    "inputs = torch.FloatTensor(3, 2, 5, 5)"
   ]
  },
  {
   "cell_type": "code",
   "execution_count": 33,
   "id": "3963802a",
   "metadata": {},
   "outputs": [
    {
     "name": "stdout",
     "output_type": "stream",
     "text": [
      "3\n",
      "torch.Size([3, 2, 5, 5])\n",
      "torch.Size([2, 5, 5])\n",
      "torch.Size([5, 5])\n"
     ]
    }
   ],
   "source": [
    "print(len(inputs))\n",
    "print(inputs.shape)\n",
    "print(inputs[0].shape)\n",
    "print(inputs[0][1].shape)"
   ]
  },
  {
   "cell_type": "code",
   "execution_count": 25,
   "id": "3a7bc2e0",
   "metadata": {},
   "outputs": [
    {
     "data": {
      "text/plain": [
       "tensor([[0.0000e+00, 0.0000e+00],\n",
       "        [1.6996e-04, 3.3274e+21],\n",
       "        [1.6783e-07, 3.2915e-09],\n",
       "        [2.7153e-06, 1.3605e+22],\n",
       "        [2.0890e+20, 1.7079e-07]])"
      ]
     },
     "execution_count": 25,
     "metadata": {},
     "output_type": "execute_result"
    }
   ],
   "source": [
    "#batch = torch.FloatTensor(5, 2)\n",
    "#batch = batch.T[-3:]\n",
    "#batch.T[-3:].T"
   ]
  },
  {
   "cell_type": "code",
   "execution_count": 34,
   "id": "2e6a8678",
   "metadata": {},
   "outputs": [],
   "source": [
    "N, D, m, m = inputs.shape\n",
    "\n",
    "diag_part = torch.diagonal(inputs, dim1=-2, dim2=-1) # N x D x m\n",
    "sum_diag_part = diag_part.sum(dim=2, keepdims=True) # N x D x 1\n",
    "sum_rows = inputs.sum(dim=3) # N x D x m\n",
    "sum_cols = inputs.sum(dim=2) # N x D x m\n",
    "sum_all = inputs.sum(dim=(2,3)) # N x D"
   ]
  },
  {
   "cell_type": "code",
   "execution_count": 36,
   "id": "400f9d67",
   "metadata": {},
   "outputs": [
    {
     "data": {
      "text/plain": [
       "torch.Size([3, 2, 5])"
      ]
     },
     "execution_count": 36,
     "metadata": {},
     "output_type": "execute_result"
    }
   ],
   "source": [
    "diag_part.shape"
   ]
  },
  {
   "cell_type": "code",
   "execution_count": 37,
   "id": "8e316098",
   "metadata": {},
   "outputs": [
    {
     "data": {
      "text/plain": [
       "tensor([[[-1.8610e+38,  1.2067e-09,  6.0198e+21, -1.0311e+15,  1.5499e-09],\n",
       "         [ 1.8096e+22,  4.2771e-05,  4.1520e-02,  1.1050e+09,  9.0986e-26]],\n",
       "\n",
       "        [[ 2.0159e-29,  2.2419e-29,  2.2458e-29,  2.2458e-29,  2.1520e-04],\n",
       "         [ 1.4013e-45,  1.4013e-45,  1.4013e-45,  1.4013e-45,  1.4013e-45]],\n",
       "\n",
       "        [[ 1.2578e-20,  1.0238e+00,  1.2726e-20,  1.2726e-20,  1.2727e-20],\n",
       "         [ 4.5888e-41,  4.5888e-41,  1.4013e-45,  1.4013e-45,  1.4013e-45]]])"
      ]
     },
     "execution_count": 37,
     "metadata": {},
     "output_type": "execute_result"
    }
   ],
   "source": [
    "diag_part"
   ]
  }
 ],
 "metadata": {
  "kernelspec": {
   "display_name": "Python 3 (ipykernel)",
   "language": "python",
   "name": "python3"
  },
  "language_info": {
   "codemirror_mode": {
    "name": "ipython",
    "version": 3
   },
   "file_extension": ".py",
   "mimetype": "text/x-python",
   "name": "python",
   "nbconvert_exporter": "python",
   "pygments_lexer": "ipython3",
   "version": "3.9.7"
  }
 },
 "nbformat": 4,
 "nbformat_minor": 5
}
